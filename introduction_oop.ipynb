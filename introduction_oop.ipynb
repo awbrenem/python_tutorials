{
 "cells": [
  {
   "cell_type": "markdown",
   "metadata": {
    "slideshow": {
     "slide_type": "slide"
    }
   },
   "source": [
    "![NASA](http://www.nasa.gov/sites/all/themes/custom/nasatwo/images/nasa-logo.svg)\n",
    "\n",
    "<center>\n",
    "<h1><font size=\"+3\">GSFC Python Bootcamp</font></h1>\n",
    "</center>\n",
    "\n",
    "---\n",
    "\n",
    "<CENTER>\n",
    "<H1 style=\"color:red\">\n",
    "Introduction to Object Oriented Programming (OOP)\n",
    "</H1>\n",
    "</CENTER>\n"
   ]
  },
  {
   "cell_type": "code",
   "execution_count": null,
   "metadata": {},
   "outputs": [],
   "source": [
    "from __future__ import print_function"
   ]
  },
  {
   "cell_type": "markdown",
   "metadata": {},
   "source": [
    "---"
   ]
  },
  {
   "cell_type": "markdown",
   "metadata": {
    "slideshow": {
     "slide_type": "slide"
    }
   },
   "source": [
    "## Goals\n",
    "\n",
    "We want to demonstrate:\n",
    "\n",
    "- What Object-Oriented Programming (OOP) is\n",
    "- Why you should care\n",
    "- How it works in Python"
   ]
  },
  {
   "cell_type": "markdown",
   "metadata": {},
   "source": [
    "## <font color=\"red\"> Functional Programming (FP) vs. OOP</font>\n",
    "\n",
    "- Both OOP and FP have the shared goal of creating understandable, flexible programs that are free of bugs. \n",
    "- They have two different approaches for how to best create those programs.\n",
    "- In all programs, there are two primary components: the data (the stuff a program knows) and the behaviors (the stuff a program can do to/with that data)."
   ]
  },
  {
   "cell_type": "markdown",
   "metadata": {
    "slideshow": {
     "slide_type": "slide"
    }
   },
   "source": [
    "### Functional Programming \n",
    "\n",
    "> Functional programming is a programming paradigm, a style of building the structure and elements of computer programs, that treats computation as the evaluation of mathematical functions and avoids changing-state and mutable data -- <a href=\" https://en.wikipedia.org/wiki/Functional_programming\"> Wikipedia</a>\n",
    "\n",
    "![fig_func](http://www.foxydatascience.com/uploads/7/4/5/8/74585969/fun-prog_orig.jpg)\n",
    "Image Source: kammerath.co.uk\n",
    "\n",
    "- In functional programming is a complete separation between the data of a program, and the behaviors of a program.\n",
    "- Nothing changed by the function, no internal variables altered that will result a future call of the same function dealing with different values.\n",
    "- Codes are sequences of function calls that operate on data.\n",
    "\n",
    "![fig_fp](https://www.modernescpp.com/images/blog/Functional/FirstClassFunctions/CharakteristikenFunktionaleProgrammierungFirstClassFunctionsEng.png)\n",
    "Image Source: modernescpp.com"
   ]
  },
  {
   "cell_type": "markdown",
   "metadata": {
    "slideshow": {
     "slide_type": "slide"
    }
   },
   "source": [
    "### Object-Oriented Programming\n",
    "\n",
    "> Object-oriented programming (OOP) is a programming paradigm based on the concept of \"objects\", which are data structures that contain data, in the form of fields, often known as attributes; and code, in the form of procedures, often known as methods --  <a href=\"en.wikipedia.org/wiki/Object-oriented_programming\"> Wikipedia </a>\n",
    "\n",
    "- Combine  data and its associated behavior in a single location (called an “object”).\n",
    "- Objects are instances of a class, and are seen as individual entities which interact with each other.\n",
    "- Rather than being static data, class <i>instances</i> contain variables (called <i>attributes</i>), as well as functions (or <i>methods</i>)"
   ]
  },
  {
   "cell_type": "markdown",
   "metadata": {
    "slideshow": {
     "slide_type": "slide"
    }
   },
   "source": [
    "## Advantages of OOP\n",
    "\n",
    "\n",
    "- Encapsulation hides implementation details so you can forget more\n",
    "- Code is organized intuitively\n",
    "- Reuse is straightforward\n",
    "- Modularity forces good programming habits\n",
    "\n",
    "\n",
    "Pure object oriented is usually stated to have four ingredients:\n",
    "\n",
    "+ **Polymorphism**: Process of using an operator or function in different ways for different data input.\n",
    "+ **Encapsulation**: Hides the implementation details of a class from other objects.\n",
    "+ **Inheritance**: A way to form new classes using classes that have already been defined.  \n",
    "+ **Abstraction**: Hides internal details and show only functionalities.\n",
    "\n",
    "![fig_oop](https://1.bp.blogspot.com/-naH6B39erk8/XW_-PmRnI5I/AAAAAAAAKrg/5xjG6FxQogADSuUXRg97lZ0_RAimZMVJACLcBGAs/s1600/oop2.PNG)\n",
    "Image Source: vishmy1.blogspot.com"
   ]
  },
  {
   "cell_type": "markdown",
   "metadata": {},
   "source": [
    "### Comparison Table Between Functional Programming vs OOP\n",
    "\n",
    "| BASIS FOR COMPARISON | Functional Programming\t| OOP |\n",
    "| --- | --- | --- | \n",
    "| Definition\t| Emphasizes an evaluation of functions.\t| Is based on a concept of objects. | \n",
    "| Data\t| Uses immutable data.\t| Uses the mutable data. | \n",
    "| Model\t| Follows a declarative programming model.\t| Follows an imperative programming model. | \n",
    "| Support\t| Parallel programming is supported.\t| Does not support parallel programming. | \n",
    "| Execution\t| Statements can be executed in any order. | \tStatements should be executed in particular order. | \n",
    "| Iteration\t| Recursion is used for iterative data.\t| Loops are used for iterative data. | \n",
    "| Element\t| The basic elements are Variables and Functions.\t| The basic elements are objects and methods. | \n",
    "| Use\t| Is used only when there are few things with more operations.\t| Is used when there are many things with few operations. | \n",
    "Source: www.educba.com"
   ]
  },
  {
   "cell_type": "markdown",
   "metadata": {},
   "source": [
    "### Everything in Python is an Object!\n",
    "- Almost everything has attributes and methods.\n",
    "- Every variable is an instance of a class, and not just values in memory.\n",
    "- Everything is an object in the sense that it can be assigned to a variable or passed as an argument to a function.\n",
    "\n",
    "**Examples:**"
   ]
  },
  {
   "cell_type": "code",
   "execution_count": null,
   "metadata": {},
   "outputs": [],
   "source": [
    "x = 10\n",
    "print(type(x))\n",
    "\n",
    "y = 10.5\n",
    "print(type(y))\n",
    "\n",
    "z = \"OOP\"\n",
    "print(type(z))\n",
    " \n",
    "w = [10, (20, 30), \"Python\"]\n",
    "print(type(w))\n",
    "\n",
    "def func(x, y):\n",
    "    return x+y\n",
    "print(type(func))"
   ]
  },
  {
   "cell_type": "markdown",
   "metadata": {},
   "source": [
    "## <font color=\"red\">Definitions</font>\n",
    "\n",
    "**Classes**\n",
    "* Classes in Python are used to create new user-defined data structures that contain:\n",
    "  1. ***Data*** in the form of ***Fields***, a.k.a. ***\"attributes\"***, and\n",
    "  2. ***Procedures***, a.k.a. ***\"methods\"***\n",
    "\n",
    "**Objects**\n",
    "* Objects are the instances created from the class.  \n",
    "* An instance is the specific object created from a particular class. \n",
    "* You can create as many objects as you want from one class. \n",
    "* It has classes’ methods and properties. \n",
    "\n",
    "**Instance Methods**\n",
    "* Function that is associated with an object.\n",
    "* When you define any method in a class, you will have to provide at least the argument called `self`.\n",
    "* `self` is the default argument to any instances methods. \n",
    "* You do not need to provide any argument at the time of calling that function, but the argument is required when you define that function inside that class."
   ]
  },
  {
   "cell_type": "markdown",
   "metadata": {
    "slideshow": {
     "slide_type": "slide"
    }
   },
   "source": [
    "### Python Class Definition Syntax\n",
    "\n",
    "```python\n",
    "class ClassName[(BaseClasses)]:\n",
    "    \"\"\"\n",
    "      [Documentation String]\n",
    "    \"\"\"\n",
    "    \n",
    "    # Executed only when class is defined\n",
    "    [Statement1]     \n",
    "    [Statement2]\n",
    "    ...\n",
    "    \n",
    "    # Class 'global' variables can be defined here\n",
    "    [Variable1]\n",
    "\n",
    "    # Performs task 1 \n",
    "    def Method1(self, args, kwargs={}):\n",
    "    \n",
    "    # Performs task 2      \n",
    "    def Method2(self, args, kwargs={}):\n",
    "        \n",
    "    ...\n",
    "```"
   ]
  },
  {
   "cell_type": "markdown",
   "metadata": {},
   "source": [
    "## <font color=\"red\"> When should I write my own classes?</font>\n",
    "* When you have some functions that are passing one or more parameters around\n",
    "* When you have some functions that need to access the same \"state\" information\n",
    "* When you are developing a Graphical User Interface (GUI)\n",
    "* When you need to represent and process some highly structured data, e.g.:\n",
    "  - a document or web page\n",
    "  - data about a real-world \"thing\" (either man-made or natural)"
   ]
  },
  {
   "cell_type": "markdown",
   "metadata": {},
   "source": [
    "## <font color=\"red\">Class Creation</font>"
   ]
  },
  {
   "cell_type": "markdown",
   "metadata": {
    "slideshow": {
     "slide_type": "slide"
    }
   },
   "source": [
    "## Smarter than the average var(iable)\n",
    "\n",
    "<img style=\"float: left\" src=\"https://i.imgur.com/peTl8Bd.png\" width=\"30%\">\n",
    "\n",
    "<i>Characteristics</i> --> Name, Color, Height, Weight\n",
    "<p class=\"gap05\"<p>\n",
    "<i>Does Things</i> ---> Eat, Sleep, Growl, Cheer\n",
    "<p class=\"gap05\"<p>\n",
    "<i>Interaction</i> ---> Parents, siblings, friends<p class=\"gap05\"<p>"
   ]
  },
  {
   "cell_type": "markdown",
   "metadata": {
    "slideshow": {
     "slide_type": "slide"
    }
   },
   "source": [
    "The \"blueprint\" class for bear:\n",
    "<p class=\"object\">\n",
    "<b><u>Bear:</u></b><br>\n",
    "- Attributes: name, color, height, weight<br>\n",
    "- Methods: eat(), sleep(), growl()\n",
    "</p>"
   ]
  },
  {
   "cell_type": "markdown",
   "metadata": {
    "slideshow": {
     "slide_type": "slide"
    }
   },
   "source": [
    "Two <i>instances</i> of bears:\n",
    "\n",
    "<p class=\"instance\">\n",
    "<b>Yogi:</b><br>\n",
    "- Attributes: \"Yogi\", brown, 1.8m, 80kg<br>\n",
    "- Methods: eat(), sleep(), growl()\n",
    "</p>\n",
    "\n",
    "<p class=\"instance\">\n",
    "<b>Winnie:</b><br>\n",
    "- Attributes: \"Winnie\", yellow, 1.2m, 100kg<br>\n",
    "- Methods: eat(), sleep(), growl()\n",
    "</p>"
   ]
  },
  {
   "cell_type": "markdown",
   "metadata": {},
   "source": [
    "### Simple Bear Class, Attributes and Methods"
   ]
  },
  {
   "cell_type": "markdown",
   "metadata": {},
   "source": [
    "**Create a Class**"
   ]
  },
  {
   "cell_type": "code",
   "execution_count": null,
   "metadata": {},
   "outputs": [],
   "source": [
    "class Bear:\n",
    "    print(\"The bear class is now created.\")"
   ]
  },
  {
   "cell_type": "markdown",
   "metadata": {},
   "source": [
    "**Instantiating Objects**"
   ]
  },
  {
   "cell_type": "markdown",
   "metadata": {},
   "source": [
    "This is not generally useful: we don't often reference the class itself"
   ]
  },
  {
   "cell_type": "code",
   "execution_count": null,
   "metadata": {},
   "outputs": [],
   "source": [
    "a = Bear\n",
    "print(a)"
   ]
  },
  {
   "cell_type": "markdown",
   "metadata": {},
   "source": [
    "That is more like it! This creates a new *instance* of the class."
   ]
  },
  {
   "cell_type": "code",
   "execution_count": null,
   "metadata": {},
   "outputs": [],
   "source": [
    "a = Bear() \n",
    "print(type(a))"
   ]
  },
  {
   "cell_type": "code",
   "execution_count": null,
   "metadata": {},
   "outputs": [],
   "source": [
    "print(a)"
   ]
  },
  {
   "cell_type": "markdown",
   "metadata": {},
   "source": [
    "**Adding Attributes**\n",
    "- We can add attributes to the instance on-the-fly"
   ]
  },
  {
   "cell_type": "code",
   "execution_count": null,
   "metadata": {},
   "outputs": [],
   "source": [
    "a.name  = \"Oski\"     \n",
    "a.color = \"Brown\"\n",
    "print(a.name)        # Does he know who he is?"
   ]
  },
  {
   "cell_type": "markdown",
   "metadata": {},
   "source": [
    "You can find out what is happening internally: \n",
    "- The instances possess dictionaries `__dict__`, which they use to store their attributes and their corresponding values."
   ]
  },
  {
   "cell_type": "code",
   "execution_count": null,
   "metadata": {},
   "outputs": [],
   "source": [
    "a.__dict__"
   ]
  },
  {
   "cell_type": "markdown",
   "metadata": {},
   "source": [
    "What happens if you what to access an attribute that does not exist?"
   ]
  },
  {
   "cell_type": "code",
   "execution_count": null,
   "metadata": {},
   "outputs": [],
   "source": [
    "a.age"
   ]
  },
  {
   "cell_type": "markdown",
   "metadata": {},
   "source": [
    "By using the function `getattr`, you can prevent this exception, if you provide a default value as the third argument:"
   ]
  },
  {
   "cell_type": "code",
   "execution_count": null,
   "metadata": {},
   "outputs": [],
   "source": [
    "default_age = 10\n",
    "getattr(a, 'age', default_age)"
   ]
  },
  {
   "cell_type": "code",
   "execution_count": null,
   "metadata": {},
   "outputs": [],
   "source": [
    "a.age"
   ]
  },
  {
   "cell_type": "markdown",
   "metadata": {},
   "source": [
    "The `setattr` function allows us to set the value of an attribute."
   ]
  },
  {
   "cell_type": "code",
   "execution_count": null,
   "metadata": {},
   "outputs": [],
   "source": [
    "setattr(a, 'age', default_age)"
   ]
  },
  {
   "cell_type": "code",
   "execution_count": null,
   "metadata": {},
   "outputs": [],
   "source": [
    "a.age"
   ]
  },
  {
   "cell_type": "code",
   "execution_count": null,
   "metadata": {},
   "outputs": [],
   "source": [
    "getattr(a, 'age', 9)"
   ]
  },
  {
   "cell_type": "markdown",
   "metadata": {},
   "source": [
    "We can use the function `hasattr` to find out if an attribute exists:"
   ]
  },
  {
   "cell_type": "code",
   "execution_count": null,
   "metadata": {},
   "outputs": [],
   "source": [
    "hasattr(a, 'length')"
   ]
  },
  {
   "cell_type": "code",
   "execution_count": null,
   "metadata": {},
   "outputs": [],
   "source": [
    "if not hasattr(a, 'length'):\n",
    "   setattr(a, 'length', 5.4)\n",
    "\n",
    "a.__dict__"
   ]
  },
  {
   "cell_type": "markdown",
   "metadata": {},
   "source": [
    "What happens if we create a new instance of the class?"
   ]
  },
  {
   "cell_type": "code",
   "execution_count": null,
   "metadata": {},
   "outputs": [],
   "source": [
    "b = Bear()\n",
    "b.__dict__"
   ]
  },
  {
   "cell_type": "markdown",
   "metadata": {},
   "source": [
    "**Adding Methods**"
   ]
  },
  {
   "cell_type": "code",
   "execution_count": null,
   "metadata": {},
   "outputs": [],
   "source": [
    "class Bear:\n",
    "    print(\"The bear class is now created.\")\n",
    "    \n",
    "    # Instance method\n",
    "    def say_hello(self):\n",
    "        print(\"Hello, world! I am a bear.\")"
   ]
  },
  {
   "cell_type": "code",
   "execution_count": null,
   "metadata": {},
   "outputs": [],
   "source": [
    "a = Bear()\n",
    "a.say_hello()"
   ]
  },
  {
   "cell_type": "markdown",
   "metadata": {},
   "source": [
    "+ The `__init__()` method is a special method automatically called when a new instance is created. It can specify necessary initialization parameters.\n",
    "+ `self` is a special identifier used inside a method to refer to the particular instance of the class. \n",
    "+ `self` is not explicitly passed in when accessed through an object instance; Python takes care of that bookkeeping."
   ]
  },
  {
   "cell_type": "code",
   "execution_count": null,
   "metadata": {},
   "outputs": [],
   "source": [
    "class Bear:\n",
    "    \"\"\"\n",
    "       Create a class Bear.\n",
    "    \"\"\"\n",
    "    print(\"The bear class is now created.\")\n",
    "    \n",
    "    # Initializer / Instance Attributes\n",
    "    def __init__(self, name):\n",
    "        self.name = name\n",
    "        print(\"A bear is born.\")\n",
    "    \n",
    "    # Instance method\n",
    "    def say_hello(self):\n",
    "        print(\"Hello, world! I am a bear.\")\n",
    "        print(\"My name is %s.\" % self.name)"
   ]
  },
  {
   "cell_type": "markdown",
   "metadata": {},
   "source": [
    "Can I create an instance this way?"
   ]
  },
  {
   "cell_type": "code",
   "execution_count": null,
   "metadata": {},
   "outputs": [],
   "source": [
    "b = Bear()"
   ]
  },
  {
   "cell_type": "markdown",
   "metadata": {},
   "source": [
    "We need to provide the `name`:"
   ]
  },
  {
   "cell_type": "code",
   "execution_count": null,
   "metadata": {},
   "outputs": [],
   "source": [
    "b = Bear(\"Judge\")"
   ]
  },
  {
   "cell_type": "code",
   "execution_count": null,
   "metadata": {},
   "outputs": [],
   "source": [
    "b.say_hello()"
   ]
  },
  {
   "cell_type": "markdown",
   "metadata": {},
   "source": [
    "**To see all the attributes and methods of an object, the built-in `dir()` function can be used.**"
   ]
  },
  {
   "cell_type": "code",
   "execution_count": null,
   "metadata": {},
   "outputs": [],
   "source": [
    "dir(a)"
   ]
  },
  {
   "cell_type": "code",
   "execution_count": null,
   "metadata": {},
   "outputs": [],
   "source": [
    "dir(b)"
   ]
  },
  {
   "cell_type": "markdown",
   "metadata": {},
   "source": [
    "### Global Class Variables versus Object Instance Attributes \n",
    "\n",
    "**Class variables** \n",
    "* Are shared - they can be accessed by all instances of that class. \n",
    "* There is only one copy of the class variable and when any one object makes a change to a class variable, that change will be seen by all the other instances.\n",
    "\n",
    "**Object variables** \n",
    "* Are owned by each individual object/instance of the class. \n",
    "* Each object has its own copy of the field i.e. they are not shared and are not related in any way to the field by the same name in a different instance."
   ]
  },
  {
   "cell_type": "code",
   "execution_count": null,
   "metadata": {},
   "outputs": [],
   "source": [
    "class Bear:\n",
    "    \n",
    "    # Class Attribute\n",
    "    population = 0\n",
    "    \n",
    "    # Initializer / Instance Attributes\n",
    "    def __init__(self, name):\n",
    "        self.name = name\n",
    "        \n",
    "        # Increment the 'global' census counter, a class attribute\n",
    "        Bear.population += 1 \n",
    "        \n",
    "        # Copy the current number to our own object attribute\n",
    "        self.number = Bear.population \n",
    "    \n",
    "    # Instance method\n",
    "    def say_hello(self):\n",
    "        print('Hello, I am bear #{}/{}. My name is {}.'.format(self.number, Bear.population, self.name))"
   ]
  },
  {
   "cell_type": "code",
   "execution_count": null,
   "metadata": {},
   "outputs": [],
   "source": [
    "a = Bear(\"Yogi\")\n",
    "a.say_hello()"
   ]
  },
  {
   "cell_type": "code",
   "execution_count": null,
   "metadata": {},
   "outputs": [],
   "source": [
    "b = Bear(\"Winnie\")\n",
    "b.say_hello()\n",
    "a.say_hello()"
   ]
  },
  {
   "cell_type": "markdown",
   "metadata": {},
   "source": [
    "Note the interesting and useful dynamic behavior: Yogi's `say_hello()` method knows about other bear(s)."
   ]
  },
  {
   "cell_type": "markdown",
   "metadata": {},
   "source": [
    "### Calling a Class Method \"Globally\" with an Explicit Instance\n",
    "- We can call a class 'directly' with an explicit reference to an object"
   ]
  },
  {
   "cell_type": "code",
   "execution_count": null,
   "metadata": {},
   "outputs": [],
   "source": [
    "c = Bear(\"Fozzie\")\n",
    "Bear.say_hello(c)"
   ]
  },
  {
   "cell_type": "markdown",
   "metadata": {},
   "source": [
    "**An Example**\n",
    "- Assume you are a zookeeper. \n",
    "- You have three bears in your care: Yogi, Winnie, and Fozzie.\n",
    "- You need to take them to a shiny new habitat in a different part of the zoo. \n",
    "- Your bear truck can only support 300 lbs. \n",
    "- Can you transfer the bears in just one trip?"
   ]
  },
  {
   "cell_type": "code",
   "execution_count": null,
   "metadata": {},
   "outputs": [],
   "source": [
    "class Bear:\n",
    "    def __init__(self, name, weight):\n",
    "        self.name = name\n",
    "        self.weight = weight        "
   ]
  },
  {
   "cell_type": "code",
   "execution_count": null,
   "metadata": {},
   "outputs": [],
   "source": [
    "a = Bear(\"Yogi\", 80)\n",
    "b = Bear(\"Winnie\", 100)\n",
    "c = Bear(\"Fozzie\", 115)"
   ]
  },
  {
   "cell_type": "markdown",
   "metadata": {},
   "source": [
    "Class instances in Python can be treated like any other data type:\n",
    "- They can be assigned to other variables, put in lists, iterated over, etc."
   ]
  },
  {
   "cell_type": "code",
   "execution_count": null,
   "metadata": {},
   "outputs": [],
   "source": [
    "my_bears = [a, b, c]"
   ]
  },
  {
   "cell_type": "code",
   "execution_count": null,
   "metadata": {},
   "outputs": [],
   "source": [
    "max_weight = 300\n",
    "total_weight = 0\n",
    "for z in my_bears:\n",
    "    total_weight += z.weight\n",
    "\n",
    "print(\"The Total Weight: \", total_weight)\n",
    "print(\"Is the total weight less than {}? {}\".format(max_weight, total_weight < max_weight))"
   ]
  },
  {
   "cell_type": "markdown",
   "metadata": {},
   "source": [
    "### Initial Summary\n",
    "\n",
    "We have learned the following on OOP:\n",
    "+ Objects & Classes\n",
    "+ Attributes as objects’ data\n",
    "+ Methods as objects’ behavior"
   ]
  },
  {
   "cell_type": "markdown",
   "metadata": {
    "slideshow": {
     "slide_type": "slide"
    }
   },
   "source": [
    "# Breakout Problem\n",
    "\n",
    "<img src=http://www.analyzemath.com/Geometry_calculators/irregular_polygon_1.gif>\n",
    "\n",
    "Calculate the perimeter (and, if you are up for it, the area) of a polygon provided the vector coordinates (in order) of its N vertices. Hint: Sum over distance between adjacent points, where d =\n",
    "math.sqrt( $ \\delta x^2 + \\delta y^2 $) ."
   ]
  },
  {
   "cell_type": "markdown",
   "metadata": {},
   "source": [
    "```python\n",
    "a = Polygon([[0,0], [0,1], [1,1], [1,0]])\n",
    "a.perimeter()\n",
    "  4.0\n",
    "a.area()\n",
    "  1.0\n",
    "b = Polygon([[0,-2],[1,1],[3,3],[5,1],[4,0],[4,-3]])\n",
    "b.perimeter()\n",
    "  17.356451097651515\n",
    "```"
   ]
  },
  {
   "cell_type": "code",
   "execution_count": null,
   "metadata": {},
   "outputs": [],
   "source": [
    "%matplotlib inline\n",
    "import matplotlib.pyplot as plt\n",
    "\n",
    "def plot_polygon(coord):\n",
    "    #coord = [[0,-2],[1,1],[3,3],[5,1],[4,0],[4,-3]]\n",
    "    coord.append(coord[0]) #repeat the first point to create a 'closed loop'\n",
    "\n",
    "    xs, ys = zip(*coord) #create lists of x and y values\n",
    "\n",
    "    plt.figure()\n",
    "    plt.plot(xs,ys) \n",
    "    plt.show()\n",
    "\n",
    "coord = [[0,-2],[1,1],[3,3],[5,1],[4,0],[4,-3]]\n",
    "plot_polygon(coord)"
   ]
  },
  {
   "cell_type": "markdown",
   "metadata": {},
   "source": [
    "## <font color=\"red\">Encapsulation: Hiding Information</font>\n",
    "\n",
    "+ Encapsulation is a mechanism that restricts direct access to objects’ data and methods. \n",
    "+ At the same time, it facilitates operation on that data (objects’ methods).\n",
    "+ All internal representation of an object is hidden from the outside. \n",
    "+ Only the object can interact with its internal data."
   ]
  },
  {
   "cell_type": "markdown",
   "metadata": {},
   "source": [
    "### Public Instance Variables\n",
    "\n",
    "* We can initialize a `public instance` variable within our constructor method. "
   ]
  },
  {
   "cell_type": "code",
   "execution_count": null,
   "metadata": {},
   "outputs": [],
   "source": [
    "class Bear:   \n",
    "    def __init__(self, name):\n",
    "        self.name = name"
   ]
  },
  {
   "cell_type": "markdown",
   "metadata": {},
   "source": [
    "Here we apply the `name` value as an argument to the `public instance variable`."
   ]
  },
  {
   "cell_type": "code",
   "execution_count": null,
   "metadata": {},
   "outputs": [],
   "source": [
    "a = Bear(\"Yogi\")\n",
    "print(a.name)"
   ]
  },
  {
   "cell_type": "markdown",
   "metadata": {},
   "source": [
    "Within the class:"
   ]
  },
  {
   "cell_type": "code",
   "execution_count": null,
   "metadata": {},
   "outputs": [],
   "source": [
    "class Bear:   \n",
    "    name = \"Yogi\""
   ]
  },
  {
   "cell_type": "markdown",
   "metadata": {},
   "source": [
    "Here, we do not need to apply the `name` as an argument, and all instance objects will have a `class attribute` initialized with `Yogi`."
   ]
  },
  {
   "cell_type": "code",
   "execution_count": null,
   "metadata": {},
   "outputs": [],
   "source": [
    "a = Bear()\n",
    "print(a.name)"
   ]
  },
  {
   "cell_type": "markdown",
   "metadata": {},
   "source": [
    "+ We have now learned that we can use `public instance variables` and `class attributes`. \n",
    "+ Another interesting thing about the `public` part is that we can manage the variable value.  \n",
    "+ Our `object` can manage its variable value: Get and Set variable values."
   ]
  },
  {
   "cell_type": "markdown",
   "metadata": {},
   "source": [
    "Keeping the `Bear` class in mind, we want to set another value to its `name` variable:"
   ]
  },
  {
   "cell_type": "code",
   "execution_count": null,
   "metadata": {},
   "outputs": [],
   "source": [
    "a = Bear()\n",
    "a.name = \"Winnie\"\n",
    "print(a.name)"
   ]
  },
  {
   "cell_type": "markdown",
   "metadata": {},
   "source": [
    "+ We just set another value (`Winnie`) to the `name` instance variable and it updated the value.  "
   ]
  },
  {
   "cell_type": "code",
   "execution_count": null,
   "metadata": {},
   "outputs": [],
   "source": [
    "b = Bear()\n",
    "print(b.name)"
   ]
  },
  {
   "cell_type": "markdown",
   "metadata": {},
   "source": [
    "### Private Instance Variable\n",
    "\n",
    "+ We can define the `private instance variable` both within the constructor method or within the class. \n",
    "+ The syntax difference is: for `private instance variables`, use a double underscore (`__`) before the `variable` name."
   ]
  },
  {
   "cell_type": "code",
   "execution_count": null,
   "metadata": {},
   "outputs": [],
   "source": [
    "class Bear:\n",
    "    def __init__(self, name, weight):\n",
    "        self.name = name\n",
    "        self.__weight = weight   "
   ]
  },
  {
   "cell_type": "markdown",
   "metadata": {},
   "source": [
    "Did you see the `weight` variable? This is how we define a `private` variable:"
   ]
  },
  {
   "cell_type": "code",
   "execution_count": null,
   "metadata": {},
   "outputs": [],
   "source": [
    "a = Bear(\"Yogi\", 80)\n",
    "print(a.__weight)"
   ]
  },
  {
   "cell_type": "markdown",
   "metadata": {},
   "source": [
    "+ <font color=\"red\">**It we want to access and update `weight`, we need to use a method that allows us to do it inside our class definition.**</font>\n",
    "\n",
    "Let us implement two methods (`weight` and `update_weight`) to understand it:"
   ]
  },
  {
   "cell_type": "code",
   "execution_count": null,
   "metadata": {},
   "outputs": [],
   "source": [
    "class Bear:\n",
    "    def __init__(self, name, weight):\n",
    "        self.name = name\n",
    "        self.__weight = weight \n",
    "        \n",
    "    def update_weight(self, new_weight):\n",
    "        self.__weight = new_weight \n",
    "\n",
    "    def weight(self):\n",
    "        return self.__weight"
   ]
  },
  {
   "cell_type": "markdown",
   "metadata": {},
   "source": [
    "Now we can update and access `private variables using` those methods."
   ]
  },
  {
   "cell_type": "code",
   "execution_count": null,
   "metadata": {},
   "outputs": [],
   "source": [
    "c = Bear(\"Yogi\", 80)"
   ]
  },
  {
   "cell_type": "code",
   "execution_count": null,
   "metadata": {},
   "outputs": [],
   "source": [
    "print(c.__dict__)"
   ]
  },
  {
   "cell_type": "code",
   "execution_count": null,
   "metadata": {},
   "outputs": [],
   "source": [
    "print(c.weight())"
   ]
  },
  {
   "cell_type": "code",
   "execution_count": null,
   "metadata": {},
   "outputs": [],
   "source": [
    "c.__weight = 90\n",
    "print(c.weight())"
   ]
  },
  {
   "cell_type": "code",
   "execution_count": null,
   "metadata": {},
   "outputs": [],
   "source": [
    "print(c.__dict__)"
   ]
  },
  {
   "cell_type": "code",
   "execution_count": null,
   "metadata": {},
   "outputs": [],
   "source": [
    "c.update_weight(100)\n",
    "print(c.weight())"
   ]
  },
  {
   "cell_type": "markdown",
   "metadata": {},
   "source": [
    "### Public Method\n",
    "\n",
    "With `public methods`, we can also use them out of our class:"
   ]
  },
  {
   "cell_type": "code",
   "execution_count": null,
   "metadata": {},
   "outputs": [],
   "source": [
    "class Bear:\n",
    "    def __init__(self, name, weight):\n",
    "        self.name = name\n",
    "        self._weight = weight \n",
    "\n",
    "    def show_weight(self):\n",
    "        return self._weight"
   ]
  },
  {
   "cell_type": "code",
   "execution_count": null,
   "metadata": {},
   "outputs": [],
   "source": [
    "a = Bear(\"Yogi\", 80)\n",
    "print(a.show_weight())"
   ]
  },
  {
   "cell_type": "markdown",
   "metadata": {},
   "source": [
    "### Private Method\n",
    "\n",
    "+ With a `private method` we are not able to access directly a `private instance variable`. \n",
    "+ Let’s implement the same `Bear` class, but now with a `show_weight` `private method` using a double underscore (`__`)."
   ]
  },
  {
   "cell_type": "code",
   "execution_count": null,
   "metadata": {},
   "outputs": [],
   "source": [
    "class Bear:\n",
    "    # Initializer / Instance Attributes\n",
    "    def __init__(self, name, weight):\n",
    "        self.name = name\n",
    "        self.__weight = weight \n",
    "\n",
    "    def __show_weight(self):\n",
    "        return self.__weight"
   ]
  },
  {
   "cell_type": "code",
   "execution_count": null,
   "metadata": {},
   "outputs": [],
   "source": [
    "a = Bear(\"Yogi\", 80)\n",
    "print(a.__show_weight())"
   ]
  },
  {
   "cell_type": "markdown",
   "metadata": {},
   "source": [
    "We can access and update our object."
   ]
  },
  {
   "cell_type": "code",
   "execution_count": null,
   "metadata": {},
   "outputs": [],
   "source": [
    "class Bear:\n",
    "    # Initializer / Instance Attributes\n",
    "    def __init__(self, name, weight):\n",
    "        self.name = name\n",
    "        self.__weight = weight \n",
    "\n",
    "    # Public Instance method\n",
    "    def get_weight(self):\n",
    "        return self.__show_weight()\n",
    "    \n",
    "    # Private instance method\n",
    "    def __show_weight(self):\n",
    "        return self.__weight"
   ]
  },
  {
   "cell_type": "code",
   "execution_count": null,
   "metadata": {},
   "outputs": [],
   "source": [
    "a = Bear(\"Yogi\", 80)\n",
    "print(a.get_weight())"
   ]
  },
  {
   "cell_type": "markdown",
   "metadata": {},
   "source": [
    "* Here we have a `__show_weight` `private method` and a `get_weight` `public method`. \n",
    "* The `get_weight` can be used by our object (out of our class) and the `__show_weight` only used inside our class definition (inside `get_weight` method)."
   ]
  },
  {
   "cell_type": "markdown",
   "metadata": {},
   "source": [
    "**Benefits of Encapsulation**\n",
    "\n",
    "* The functionality is defined in one place and not in multiple places.\n",
    "* It is defined in a logical place – the place where the data is kept.\n",
    "* Data inside our object is not modified unexpectedly by external code in a completely different part of our program.\n",
    "* When we use a method, we only need to know what result the method will produce – we don’t need to know details about the object’s internals in order to use it. We could switch to using another object which is completely different on the inside, and not have to change any code because both objects have the same interface.\n",
    "\n",
    "\n",
    "| Type\t| Description |\n",
    "| --- | --- |\n",
    "| public methods\t| Accessible from anywhere |\n",
    "| <font color=\"blue\">private methods</font>\t| Accessible only in their own class and start with two underscores |\n",
    "| public variables\t| Accessible from anywhere |\n",
    "    | <font color=\"blue\">private variables</font>\t| Accesible only in their own class or by a method if defined. starts with two underscores |"
   ]
  },
  {
   "cell_type": "markdown",
   "metadata": {},
   "source": [
    "## <font color=\"red\">Inheritance: Behaviors and Characteristics</font>\n",
    "\n",
    "* One of the major benefits of OOP is **reuse** of code and one of the ways this is achieved is through the **inheritance** mechanism. \n",
    "* Inheritance can be best imagined as implementing a **type** and **subtype** relationship between classes.\n",
    "* In OOP, classes can inherit common characteristics (data) and behavior (methods) from another class.\n",
    "* Inheritance can help us to represent objects which have some differences and some similarities in the way they work. We can put all the functionality that the objects have in common in a base class, and then define one or more subclasses with their own custom functionality."
   ]
  },
  {
   "cell_type": "markdown",
   "metadata": {},
   "source": [
    "**Syntax for Inheritance**\n",
    "\n",
    "To create a child class based upon the parent class we use the following syntax:\n",
    "\n",
    "```python\n",
    "class ParentClass:\n",
    "    # body of ParentClass\n",
    "    # parent_method1\n",
    "    # parent_method2\n",
    " \n",
    "class ChildClass(ParentClass):\n",
    "    # body of ChildClass\n",
    "    # child_method 1\n",
    "    # child_method 2\n",
    "    \n",
    "```"
   ]
  },
  {
   "cell_type": "markdown",
   "metadata": {},
   "source": [
    "### Example\n",
    "\n",
    "* Imagine a car. \n",
    "* Number of wheels, seating capacity and maximum velocity are all attributes of a car. \n",
    "* We can say that an **ElectricCar** class inherits these same attributes from the regular **Car** class."
   ]
  },
  {
   "cell_type": "code",
   "execution_count": null,
   "metadata": {},
   "outputs": [],
   "source": [
    "class Car:\n",
    "    def __init__(self, number_of_wheels, seating_capacity, maximum_velocity):\n",
    "        self.number_of_wheels = number_of_wheels\n",
    "        self.seating_capacity = seating_capacity\n",
    "        self.maximum_velocity = maximum_velocity\n",
    "    \n",
    "    def change_velocity(self, velocity):\n",
    "        self.maximum_velocity = velocity \n",
    "        \n",
    "    def make_noise(self):\n",
    "        print('VRUUUUUUUM')"
   ]
  },
  {
   "cell_type": "code",
   "execution_count": null,
   "metadata": {},
   "outputs": [],
   "source": [
    "my_car = Car(4, 5, 250)\n",
    "print(my_car.number_of_wheels)\n",
    "print(my_car.seating_capacity)\n",
    "print(my_car.maximum_velocity)"
   ]
  },
  {
   "cell_type": "markdown",
   "metadata": {},
   "source": [
    "* In Python, we apply a `parent class` to the `child class` as a parameter. \n",
    "* An **ElectricCar** class can inherit from our **Car** class."
   ]
  },
  {
   "cell_type": "code",
   "execution_count": null,
   "metadata": {},
   "outputs": [],
   "source": [
    "class ElectricCar(Car):\n",
    "    def __init__(self, number_of_wheels, seating_capacity, maximum_velocity):\n",
    "        Car.__init__(self, number_of_wheels, seating_capacity, maximum_velocity)\n",
    "    \n",
    "    def show_description(self):\n",
    "        print(\"This car has {} wheels, seats up to {} people and has a maximum speed of {} mph\".format(self.number_of_wheels, self.seating_capacity, self.maximum_velocity))"
   ]
  },
  {
   "cell_type": "code",
   "execution_count": null,
   "metadata": {},
   "outputs": [],
   "source": [
    "my_electric_car = ElectricCar(4, 5, 250)\n",
    "print(my_electric_car.number_of_wheels) # => 4\n",
    "print(my_electric_car.seating_capacity) # => 5\n",
    "print(my_electric_car.maximum_velocity) # => 250"
   ]
  },
  {
   "cell_type": "code",
   "execution_count": null,
   "metadata": {},
   "outputs": [],
   "source": [
    "my_electric_car.make_noise()"
   ]
  },
  {
   "cell_type": "code",
   "execution_count": null,
   "metadata": {},
   "outputs": [],
   "source": [
    "my_electric_car.show_description()"
   ]
  },
  {
   "cell_type": "code",
   "execution_count": null,
   "metadata": {},
   "outputs": [],
   "source": [
    "my_electric_car.change_velocity(255)\n",
    "print(my_electric_car.maximum_velocity)"
   ]
  },
  {
   "cell_type": "markdown",
   "metadata": {},
   "source": [
    "## <font color=\"red\">Polymorphism and Method Overriding</font>\n",
    "\n",
    "\n",
    "* Polymorphism means the ability to take various forms or different types respond to the same function.\n",
    "* In Python, Polymorphism allows us to define methods in the child class with the same name as defined in their parent class.\n"
   ]
  },
  {
   "cell_type": "markdown",
   "metadata": {},
   "source": [
    "**Example of Polymorphism**\n",
    "\n",
    "- Create an abstract class `Car` which holds the structure  `drive()` and `stop()`.  \n",
    "- Define two objects `Sportscar` and `Truck`, both are a form of `Car`.\n",
    "- Access any type of car and call the functionality without taking further into account if the form is `Sportscar` or `Truck`."
   ]
  },
  {
   "cell_type": "code",
   "execution_count": null,
   "metadata": {},
   "outputs": [],
   "source": [
    "class Car:\n",
    "    def __init__(self, name):\n",
    "        self.name = name\n",
    "    \n",
    "    def drive(self):\n",
    "        raise NotImplementedError(\"Subclass must implement abstract method\")\n",
    "\n",
    "    def stop(self):\n",
    "        raise NotImplementedError(\"Subclass must implement abstract method\")\n",
    "    \n",
    "class Sportscar(Car):\n",
    "    def drive(self):\n",
    "        return 'Sportscar driving!'\n",
    "\n",
    "    def stop(self):\n",
    "        return 'Sportscar braking!'\n",
    "    \n",
    "class Truck(Car):\n",
    "    def drive(self):\n",
    "        return 'Truck driving slowly because heavily loaded.'\n",
    "\n",
    "    def stop(self):\n",
    "        return 'Truck braking!'\n",
    "\n"
   ]
  },
  {
   "cell_type": "code",
   "execution_count": null,
   "metadata": {},
   "outputs": [],
   "source": [
    "cars = [Truck('Bananatruck'), Truck('Orangetruck'), Sportscar('Z3')]\n",
    "\n",
    "for car in cars:\n",
    "    print(car.name + ': ' + car.drive())"
   ]
  },
  {
   "cell_type": "code",
   "execution_count": null,
   "metadata": {},
   "outputs": [],
   "source": [
    "cars = [Truck('Bananatruck'), Truck('Orangetruck'), Sportscar('Z3')]\n",
    "\n",
    "for car in cars:\n",
    "    print(car.name + ': ' + car.stop())"
   ]
  },
  {
   "cell_type": "markdown",
   "metadata": {},
   "source": [
    "## <font color=\"red\">Method Overriding</font>\n",
    "\n",
    "+ A child class inherits all the methods from the parent class. \n",
    "+ You can encounter situations where the method inherited from the parent class doesn’t quite fit into the child class. In such cases, you will have to re-implement method in the child class. \n",
    "+ This process is known as Method Overriding."
   ]
  },
  {
   "cell_type": "markdown",
   "metadata": {},
   "source": [
    "**Example of Method Overriding**"
   ]
  },
  {
   "cell_type": "code",
   "execution_count": null,
   "metadata": {},
   "outputs": [],
   "source": [
    "class A:\n",
    "    def explore(self):\n",
    "        print(\"explore() method from class A\")\n",
    " \n",
    "class B(A):\n",
    "    def explore(self):\n",
    "        print(\"explore() method from class B\")\n",
    "  \n",
    "b_obj = B()\n",
    "a_obj = A()\n",
    " \n",
    "b_obj.explore()\n",
    "a_obj.explore()"
   ]
  },
  {
   "cell_type": "markdown",
   "metadata": {},
   "source": [
    "* Here `b_obj` is an object of class `B` (child class), as a result, class `B` version of the `explore()` method is called. \n",
    "+ However, the variable `a_obj` is an object of class `A` (parent class), as a result, class `A` version of the `explore()` method is called.\n",
    "\n",
    "If for some reason you still want to access the overridden method of the parent class in the child class, you can call it using the `super()` function as follows:"
   ]
  },
  {
   "cell_type": "code",
   "execution_count": null,
   "metadata": {},
   "outputs": [],
   "source": [
    "class A:\n",
    "    def explore(self):\n",
    "        print(\"explore() method from class A\")\n",
    " \n",
    "class B(A):\n",
    "    def explore(self):\n",
    "        super().explore()  # calling the parent class explore() method\n",
    "        print(\"explore() method from class B\")\n",
    "  \n",
    "b_obj = B()\n",
    "b_obj.explore()"
   ]
  },
  {
   "cell_type": "markdown",
   "metadata": {},
   "source": [
    "## <font color=\"red\">object – The Base Class</font>\n",
    "\n",
    "In Python, all classes inherit from the `object` class implicitly. It means that the following two class definitions are equivalent:\n",
    "\n",
    "```python\n",
    "class MyClass:\n",
    "    pass\n",
    " \n",
    "class MyClass(object):\n",
    "    pass\n",
    "```\n",
    "\n",
    "It turns out that the object class provides some special methods with two leading and trailing underscores which are inherited by all the classes. Here are some important methods provided by the object class.\n",
    "\n",
    "1. `__new__()`\n",
    "2. `__init__()`\n",
    "3. `__str__()`\n",
    "\n",
    "The `__new__()` method creates the object. After creating the object it calls the `__init__()` method to initialize attributes of the object. Finally, it returns the newly created object to the calling program. Normally, we don’t override `__new__()` method, however, if you want to significantly change the way an object is created, you should definitely override it.\n",
    "\n",
    "The `__str__()` method is used to return a nicely formatted string representation of the object. The object class version of `__str__()` method returns a string containing the name of the class and its memory address in hexadecimal."
   ]
  },
  {
   "cell_type": "code",
   "execution_count": null,
   "metadata": {},
   "outputs": [],
   "source": [
    "class Jester:\n",
    "    def laugh(self):\n",
    "        return print(\"laugh() called\")\n",
    " \n",
    "obj = Jester()\n",
    "print(obj)"
   ]
  },
  {
   "cell_type": "markdown",
   "metadata": {},
   "source": [
    "+ The above output is not helpful\n",
    "+ We can easily override this method by defining a method named `__str__()` in the `Jester` class as follows:"
   ]
  },
  {
   "cell_type": "code",
   "execution_count": null,
   "metadata": {},
   "outputs": [],
   "source": [
    "class Jester:\n",
    "    def laugh(self):\n",
    "        return \"laugh() called\"\n",
    " \n",
    "    def __str__(self):\n",
    "        return \"A more helpful description!\"\n",
    " \n",
    "obj = Jester()\n",
    "print(obj)"
   ]
  },
  {
   "cell_type": "code",
   "execution_count": null,
   "metadata": {},
   "outputs": [],
   "source": []
  }
 ],
 "metadata": {
  "kernelspec": {
   "display_name": "Python 3",
   "language": "python",
   "name": "python3"
  },
  "language_info": {
   "codemirror_mode": {
    "name": "ipython",
    "version": 3
   },
   "file_extension": ".py",
   "mimetype": "text/x-python",
   "name": "python",
   "nbconvert_exporter": "python",
   "pygments_lexer": "ipython3",
   "version": "3.7.3"
  }
 },
 "nbformat": 4,
 "nbformat_minor": 1
}
