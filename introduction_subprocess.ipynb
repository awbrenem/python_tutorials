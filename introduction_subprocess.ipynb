{
 "cells": [
  {
   "cell_type": "markdown",
   "metadata": {},
   "source": [
    "![NASA](http://www.nasa.gov/sites/all/themes/custom/nasatwo/images/nasa-logo.svg)\n",
    "\n",
    "<center>\n",
    "<h1><font size=\"+3\">GSFC Python Bootcamp</font></h1>\n",
    "</center>\n",
    "\n",
    "---\n",
    "\n",
    "<CENTER>\n",
    "<H1 style=\"color:red\">\n",
    "subprocess Module\n",
    "</H1>\n",
    "</CENTER>"
   ]
  },
  {
   "cell_type": "code",
   "execution_count": null,
   "metadata": {},
   "outputs": [],
   "source": [
    "from __future__ import print_function"
   ]
  },
  {
   "cell_type": "markdown",
   "metadata": {},
   "source": [
    "## <font color=\"red\">Reference Documents?</font>\n",
    "\n",
    "- <a href=\"https://docs.python.org/3/library/subprocess.html\"> Subprocess Management</a>\n",
    "- <a href=\"https://www.bogotobogo.com/python/python_subprocess_module.php\">Subprocess Module </a>\n",
    "- <a href=\"http://sharats.me/the-ever-useful-and-neat-subprocess-module.html\">The ever useful and neat subprocess module</a>"
   ]
  },
  {
   "cell_type": "markdown",
   "metadata": {},
   "source": [
    "## <font color=\"red\">What Will be Covered?</font>\n",
    "- Introduction\n",
    "- What is the `subprocess` Module?\n",
    "- `check_output` Call\n",
    "- `call()` call\n",
    "- `Popen` Class\n",
    "- Few Applications"
   ]
  },
  {
   "cell_type": "markdown",
   "metadata": {},
   "source": [
    "## <font color=\"red\">Introduction on Subprocesses</font>\n",
    "\n",
    "- A running program is called a process: has its own system state, which includes memory, lists of open files, a program counter that keeps track of the instruction being executed, and a call stack used to hold the local variables of functions.\n",
    "- A process executes statements one after the other in a single sequence of control flow, which is sometimes called the main thread of the process. At any given time, the program is only doing one thing.\n",
    "- A program can create new processes using library functions.\n",
    "- These processes, known as subprocesses, run as completely independent entities-each with their own private system state and main thread of execution.\n",
    "- Because a subprocess is independent, it executes concurrently with the original process. That is, the process that created the subprocess can go on to work on other things while the subprocess carries out its own work behind the scenes."
   ]
  },
  {
   "cell_type": "markdown",
   "metadata": {},
   "source": [
    "## <font color=\"red\">What is the `subprocess` Module?</font>\n",
    "\n",
    "- The `subprocess` module provides a consistent interface to creating and working with additional processes.\n",
    "- It allows you to spawn new processes, connect to their input/output/error pipes, and obtain their return codes.\n",
    "- Good substitute for the modules `os` (system, popen, spawn), `popens`, and `commands`."
   ]
  },
  {
   "cell_type": "code",
   "execution_count": null,
   "metadata": {},
   "outputs": [],
   "source": [
    "import subprocess"
   ]
  },
  {
   "cell_type": "markdown",
   "metadata": {},
   "source": [
    "## <font color=\"red\">Simple Commands we Want to Execute</font>\n",
    "\n",
    "Throughout this presentation, we primary want to execute the following Unix commands:\n",
    "\n",
    "```unix\n",
    "ls\n",
    "ls -l\n",
    "ls -l | wc -l\n",
    "cat file_name\n",
    "```\n",
    "\n",
    "As we have a better understaning on how to run the above using `subprocess` calls, we will introduce more advanced example."
   ]
  },
  {
   "cell_type": "code",
   "execution_count": null,
   "metadata": {},
   "outputs": [],
   "source": [
    "%%writefile hello_world.py\n",
    "print(\"Hello World!\")\n",
    "print(\"Welcome to this Python tutorial\")"
   ]
  },
  {
   "cell_type": "markdown",
   "metadata": {},
   "source": [
    "### Save Process Output (`stdout`)\n",
    "\n",
    "- We can get the output of the program and store it in the string directly using `check_output`. \n",
    "- The method is defined as the following:\n",
    "\n",
    "```python\n",
    "subprocess.check_output(args, *, stdin=None, \n",
    "                        stderr=None, \n",
    "                        shell=False, \n",
    "                        universal_newlines=False)\n",
    "```"
   ]
  },
  {
   "cell_type": "markdown",
   "metadata": {},
   "source": [
    "**Examples**"
   ]
  },
  {
   "cell_type": "markdown",
   "metadata": {},
   "source": [
    "List files in the current directory by executing the Unix command `ls`."
   ]
  },
  {
   "cell_type": "code",
   "execution_count": null,
   "metadata": {},
   "outputs": [],
   "source": [
    "ls_output = subprocess.check_output(['ls'])\n",
    "print(ls_output.decode('utf-8'))"
   ]
  },
  {
   "cell_type": "code",
   "execution_count": null,
   "metadata": {},
   "outputs": [],
   "source": [
    "ls_output = subprocess.check_output(['ls'], universal_newlines=True)\n",
    "print(ls_output)"
   ]
  },
  {
   "cell_type": "markdown",
   "metadata": {},
   "source": [
    "Add options in the listing of files to execute `ls -l`.\n",
    "\n",
    "- When an argument list is passed, the first argument is interpreted as the executable.\n",
    "- The parameters from second param onwards are treated as the command line arguments to the program."
   ]
  },
  {
   "cell_type": "code",
   "execution_count": null,
   "metadata": {},
   "outputs": [],
   "source": [
    "ls_output = subprocess.check_output(['ls', '-l'], universal_newlines=True)\n",
    "print(ls_output)"
   ]
  },
  {
   "cell_type": "markdown",
   "metadata": {},
   "source": [
    "The following won't work because `|` (pipe) is not an argument of `ls`."
   ]
  },
  {
   "cell_type": "code",
   "execution_count": null,
   "metadata": {},
   "outputs": [],
   "source": [
    "subprocess.check_output(['ls', '-l', '|', 'wc', '-l'])"
   ]
  },
  {
   "cell_type": "code",
   "execution_count": null,
   "metadata": {},
   "outputs": [],
   "source": [
    "cat_output = subprocess.check_output(['cat', 'hello_world.py'], universal_newlines=True)\n",
    "print(cat_output)"
   ]
  },
  {
   "cell_type": "code",
   "execution_count": null,
   "metadata": {},
   "outputs": [],
   "source": [
    "run_output = subprocess.check_output(['python', 'hello_world.py'], universal_newlines=True)\n",
    "print(run_output)"
   ]
  },
  {
   "cell_type": "markdown",
   "metadata": {},
   "source": [
    "## Running via the Shell\n",
    "\n",
    "- `subprocess` has a method `call()` which can be used to start a program. \n",
    "- The first argument must be the command list to be executed. \n",
    "\n",
    "```python\n",
    "subprocess.call(args, *, stdin=None, stdout=None, stderr=None, shell=False)\n",
    "```"
   ]
  },
  {
   "cell_type": "code",
   "execution_count": null,
   "metadata": {},
   "outputs": [],
   "source": [
    "subprocess.call('echo $HOME', shell=True)"
   ]
  },
  {
   "cell_type": "code",
   "execution_count": null,
   "metadata": {},
   "outputs": [],
   "source": [
    "subprocess.call('ls | wc -l', shell=True)"
   ]
  },
  {
   "cell_type": "code",
   "execution_count": null,
   "metadata": {},
   "outputs": [],
   "source": [
    "subprocess.call(['ls','-l','-a'])"
   ]
  },
  {
   "cell_type": "markdown",
   "metadata": {},
   "source": [
    "* If we do not set shell=True, it will be assumed that `ls` is an executable and it will not work."
   ]
  },
  {
   "cell_type": "markdown",
   "metadata": {},
   "source": [
    "subprocess.call('ls -l')"
   ]
  },
  {
   "cell_type": "markdown",
   "metadata": {},
   "source": [
    "* However, if args is a list, then the first item in this list is considered as the executable and the rest of the items in the list are passed as command line arguments to the program."
   ]
  },
  {
   "cell_type": "code",
   "execution_count": null,
   "metadata": {},
   "outputs": [],
   "source": [
    "subprocess.call(['ls', '-l'])"
   ]
  },
  {
   "cell_type": "code",
   "execution_count": null,
   "metadata": {},
   "outputs": [],
   "source": [
    "subprocess.call('ls -l', shell=True)"
   ]
  },
  {
   "cell_type": "code",
   "execution_count": null,
   "metadata": {},
   "outputs": [],
   "source": [
    "subprocess.call(['ls', '-l'], shell=True)"
   ]
  },
  {
   "cell_type": "markdown",
   "metadata": {},
   "source": [
    "A more realistic example will look like:"
   ]
  },
  {
   "cell_type": "code",
   "execution_count": null,
   "metadata": {},
   "outputs": [],
   "source": [
    "import sys\n",
    "mycmd = 'ls'\n",
    "myarg = ' -lrt'\n",
    "try:\n",
    "    retcode = subprocess.call(mycmd + myarg, shell=True)\n",
    "    if retcode < 0:\n",
    "        print(sys.stderr, \"Child was terminated by signal\", -retcode)\n",
    "    else:\n",
    "        print(sys.stderr, \"Child returned\", retcode)\n",
    "except OSError as e:\n",
    "    print(sys.stderr, \"Execution failed:\", e)"
   ]
  },
  {
   "cell_type": "code",
   "execution_count": null,
   "metadata": {},
   "outputs": [],
   "source": []
  },
  {
   "cell_type": "markdown",
   "metadata": {},
   "source": [
    "## `Popen` Class\n",
    "\n",
    "- Main subprocess class\n",
    "- Internally used by the `call`, `check_output` and `check_call` classes.\n",
    "\n",
    "Syntax:\n",
    "\n",
    "```python\n",
    "class subprocess.Popen(args, bufsize=0, executable=None, \n",
    "                       stdin=None, stdout=None, stderr=None, \n",
    "                       preexec_fn=None, close_fds=False, shell=False,\n",
    "                       cwd=None, env=None, universal_newlines=False, \n",
    "                       startupinfo=None, creationflags=0)\n",
    "```\n",
    "\n",
    "When we instantiate the Popen class, we have access to several useful methods:\n",
    "\n",
    "| Method\t| Description | \n",
    "| --- | --- | \n",
    "| `Popen.poll()`\t| Checks if the child process has terminated.| \n",
    "| `Popen.wait()`\t| Wait for the child process to terminate.| \n",
    "| `Popen.communicate()`\t| Allows to interact with the process.| \n",
    "| `Popen.send_signal()`\t| Sends a signal to the child process.| \n",
    "| `Popen.terminate()`\t| Stops the child process.| \n",
    "| `Popen.kill()` | \tKills a child process.| "
   ]
  },
  {
   "cell_type": "markdown",
   "metadata": {},
   "source": [
    "**Getting the return code**\n",
    "- The moment the `Popen` class is instantiated, the command starts running.\n",
    "- You can wait for it and after its done, access the return code via the returncode attribute."
   ]
  },
  {
   "cell_type": "code",
   "execution_count": null,
   "metadata": {},
   "outputs": [],
   "source": [
    "proc = subprocess.Popen('ls')\n",
    "proc.wait()\n",
    "print(proc.returncode)"
   ]
  },
  {
   "cell_type": "markdown",
   "metadata": {},
   "source": [
    "**Getting the standard output/error (IO Stream)**\n",
    "- You include the arguments `stdout` and `stderr` in the `Popen` call.\n",
    "- You use the `communicate()` method that reads the input and output from a process.\n",
    "- When you run `communicate()`, it will wait until the process is complete."
   ]
  },
  {
   "cell_type": "code",
   "execution_count": null,
   "metadata": {},
   "outputs": [],
   "source": [
    "process = subprocess.Popen('ls', \n",
    "                           stdout=subprocess.PIPE, \n",
    "                           stderr=subprocess.PIPE, \n",
    "                           universal_newlines=True)\n",
    "stdout, stderr = process.communicate()"
   ]
  },
  {
   "cell_type": "code",
   "execution_count": null,
   "metadata": {},
   "outputs": [],
   "source": [
    "print(stdout)"
   ]
  },
  {
   "cell_type": "code",
   "execution_count": null,
   "metadata": {},
   "outputs": [],
   "source": [
    "print(stderr)"
   ]
  },
  {
   "cell_type": "code",
   "execution_count": null,
   "metadata": {},
   "outputs": [],
   "source": [
    "process = subprocess.Popen(['ls', '-l'], \n",
    "                           stdout=subprocess.PIPE, \n",
    "                           stderr=subprocess.PIPE, \n",
    "                           universal_newlines=True)\n",
    "stdout, stderr = process.communicate()\n",
    "print(stdout)"
   ]
  },
  {
   "cell_type": "code",
   "execution_count": null,
   "metadata": {},
   "outputs": [],
   "source": [
    "process = subprocess.Popen(['cat', 'hello_world.py'], \n",
    "                           stdout=subprocess.PIPE, \n",
    "                           stderr=subprocess.PIPE,\n",
    "                           universal_newlines=True)\n",
    "stdout, stderr = process.communicate()\n",
    "print(stdout)"
   ]
  },
  {
   "cell_type": "code",
   "execution_count": null,
   "metadata": {},
   "outputs": [],
   "source": [
    "process = subprocess.Popen(['python', 'hello_world.py'], \n",
    "                           stdout=subprocess.PIPE, \n",
    "                           stderr=subprocess.PIPE, \n",
    "                           universal_newlines=True)\n",
    "stdout, stderr = process.communicate()\n",
    "print(stdout)"
   ]
  },
  {
   "cell_type": "markdown",
   "metadata": {},
   "source": [
    "**Replacing Shell Pipeline**\n",
    "- We want to execute `ls -l | wc -l`.\n",
    "- As we saw before that `|` (pipe) is not an option of the command `ls` and we cannot directly combine them.\n",
    "- We need to first instantiate a process to execute `ls -l`, which output will be the input of a second process."
   ]
  },
  {
   "cell_type": "code",
   "execution_count": null,
   "metadata": {},
   "outputs": [],
   "source": [
    "first_proc = subprocess.Popen(['ls', '-l'], stdout=subprocess.PIPE)\n",
    "sec_proc   = subprocess.Popen(['wc', '-l'], stdin=first_proc.stdout, \n",
    "                      stdout=subprocess.PIPE, universal_newlines=True)\n",
    "\n",
    "# Allow first_proc to receive a SIGPIPE if sec_proc exits.\n",
    "first_proc.stdout.close()  \n",
    "\n",
    "output = sec_proc.communicate()[0]\n",
    "print(output)"
   ]
  },
  {
   "cell_type": "code",
   "execution_count": null,
   "metadata": {},
   "outputs": [],
   "source": [
    "output = subprocess.check_output(\"ls -l | wc -l\", shell=True, universal_newlines=True)\n",
    "print(output)"
   ]
  },
  {
   "cell_type": "markdown",
   "metadata": {},
   "source": [
    "Show the names and login times of the currently logged in users:\n",
    "\n",
    "```unix\n",
    "who | cut -c 1-16,26-38 \n",
    "```"
   ]
  },
  {
   "cell_type": "code",
   "execution_count": null,
   "metadata": {},
   "outputs": [],
   "source": [
    "first_proc = subprocess.Popen(['who'], stdout=subprocess.PIPE)\n",
    "sec_proc = subprocess.Popen(['cut', '-c', '1-16,26-38'], \n",
    "                      stdin=first_proc.stdout, stdout=subprocess.PIPE, universal_newlines=True)\n",
    "# Allow first_proc to receive a SIGPIPE if sec_proc exits.\n",
    "first_proc.stdout.close()  \n",
    "output = sec_proc.communicate()[0]\n",
    "print(output)"
   ]
  },
  {
   "cell_type": "markdown",
   "metadata": {},
   "source": [
    "**Passing Environment Variables**\n",
    "* The env argument to Popen lets you customize the environment of the command being run. \n",
    "* You can add your own environment settings to existing ones:"
   ]
  },
  {
   "cell_type": "code",
   "execution_count": null,
   "metadata": {},
   "outputs": [],
   "source": [
    "new_env = os.environ.copy()\n",
    "new_env['MEGAVARIABLE'] = 'MEGAVALUE'\n",
    "p = Popen('command', env=new_env)"
   ]
  },
  {
   "cell_type": "markdown",
   "metadata": {},
   "source": [
    "**Killing Processes**"
   ]
  },
  {
   "cell_type": "code",
   "execution_count": null,
   "metadata": {},
   "outputs": [],
   "source": [
    "proc.terminate()"
   ]
  },
  {
   "cell_type": "code",
   "execution_count": null,
   "metadata": {},
   "outputs": [],
   "source": [
    "proc.kill()"
   ]
  },
  {
   "cell_type": "markdown",
   "metadata": {},
   "source": [
    "### `run` Function\n",
    "\n",
    "- Beginning in **Pyrhon 3.5**, the recommended approach to invoking subprocesses is to use the `run()` function for all use cases it can handle.\n",
    "- For more advanced use cases, the underlying `Popen` interface can be used directly.\n",
    "\n",
    "The general syntax is:\n",
    "\n",
    "```python\n",
    "subprocess.run(args, *, stdin=None, input=None, \n",
    "               stdout=None, stderr=None, capture_output=False, \n",
    "               shell=False, cwd=None, timeout=None, check=False, \n",
    "               encoding=None, errors=None, text=None, env=None, universal_newlines=None)\n",
    "```\n"
   ]
  },
  {
   "cell_type": "code",
   "execution_count": null,
   "metadata": {},
   "outputs": [],
   "source": [
    "proc = subprocess.run('ls')\n",
    "print(proc.returncode)"
   ]
  },
  {
   "cell_type": "code",
   "execution_count": null,
   "metadata": {},
   "outputs": [],
   "source": [
    "proc = subprocess.run(['ls'], \n",
    "                         stdout=subprocess.PIPE, \n",
    "                         stderr=subprocess.PIPE, \n",
    "                         universal_newlines=True)\n",
    "print('Return Code:', proc.returncode)\n",
    "print('Have {} bytes in stdout:\\n{}'.format(len(proc.stdout), proc.stdout))"
   ]
  },
  {
   "cell_type": "code",
   "execution_count": null,
   "metadata": {},
   "outputs": [],
   "source": [
    "proc = subprocess.run(['ls', '-l'], \n",
    "                         stdout=subprocess.PIPE, \n",
    "                         stderr=subprocess.PIPE, \n",
    "                         universal_newlines=True)\n",
    "print('Return Code:', proc.returncode)\n",
    "print('Have {} bytes in stdout:\\n{}'.format(len(proc.stdout), proc.stdout))"
   ]
  },
  {
   "cell_type": "code",
   "execution_count": null,
   "metadata": {},
   "outputs": [],
   "source": [
    "proc = subprocess.run(['ls', '-l'], \n",
    "                         capture_output=True, \n",
    "                         universal_newlines=True)\n",
    "print('Return Code:', proc.returncode)\n",
    "print('Have {} bytes in stdout:\\n{}'.format(len(proc.stdout), proc.stdout))"
   ]
  },
  {
   "cell_type": "code",
   "execution_count": null,
   "metadata": {},
   "outputs": [],
   "source": [
    "proc = subprocess.run(['cat', 'hello_world.py'], \n",
    "                         capture_output=True, \n",
    "                         universal_newlines=True)\n",
    "print('Return Code:', proc.returncode)\n",
    "print('Have {} bytes in stdout:\\n{}'.format(len(proc.stdout), proc.stdout))"
   ]
  },
  {
   "cell_type": "code",
   "execution_count": null,
   "metadata": {},
   "outputs": [],
   "source": [
    "proc = subprocess.run(['python', 'hello_world.py'], \n",
    "                         capture_output=True, \n",
    "                         universal_newlines=True)\n",
    "print('Return Code:', proc.returncode)\n",
    "print('Have {} bytes in stdout:\\n{}'.format(len(proc.stdout), proc.stdout))"
   ]
  },
  {
   "cell_type": "code",
   "execution_count": null,
   "metadata": {},
   "outputs": [],
   "source": []
  },
  {
   "cell_type": "markdown",
   "metadata": {},
   "source": [
    "## <font color=\"red\">Few Applications</font>"
   ]
  },
  {
   "cell_type": "markdown",
   "metadata": {},
   "source": [
    "### Interacting with Another Command"
   ]
  },
  {
   "cell_type": "code",
   "execution_count": null,
   "metadata": {},
   "outputs": [],
   "source": [
    "%%writefile repeater.py\n",
    "import sys\n",
    "\n",
    "sys.stderr.write('repeater.py: starting\\n')\n",
    "sys.stderr.flush()\n",
    "\n",
    "while True:\n",
    "    next_line = sys.stdin.readline()\n",
    "    if not next_line:\n",
    "        break\n",
    "    sys.stdout.write(next_line)\n",
    "    sys.stdout.flush()\n",
    "\n",
    "sys.stderr.write('repeater.py: exiting\\n')\n",
    "sys.stderr.flush()"
   ]
  },
  {
   "cell_type": "code",
   "execution_count": null,
   "metadata": {},
   "outputs": [],
   "source": [
    "%%writefile interaction.py\n",
    "import subprocess\n",
    "\n",
    "print('One line at a time:')\n",
    "proc = subprocess.Popen('python repeater.py',\n",
    "                        shell=True,\n",
    "                        stdin=subprocess.PIPE,\n",
    "                        stdout=subprocess.PIPE,\n",
    "                        universal_newlines=True)\n",
    "for i in range(10):\n",
    "    proc.stdin.write('%d\\n' % i)\n",
    "    output = proc.stdout.readline()\n",
    "    print(output.rstrip(), i)\n",
    "remainder = proc.communicate()[0]\n",
    "print(\"Remainder: \", remainder)\n",
    "\n",
    "print()\n",
    "print('All output at once:')\n",
    "proc = subprocess.Popen('python repeater.py',\n",
    "                        shell=True,\n",
    "                        stdin=subprocess.PIPE,\n",
    "                        stdout=subprocess.PIPE,\n",
    "                        universal_newlines=True)\n",
    "for i in range(10):\n",
    "    proc.stdin.write('%d\\n' % i)\n",
    "\n",
    "output = proc.communicate()[0]\n",
    "print(output)"
   ]
  },
  {
   "cell_type": "code",
   "execution_count": null,
   "metadata": {},
   "outputs": [],
   "source": [
    "run interaction.py"
   ]
  },
  {
   "cell_type": "code",
   "execution_count": null,
   "metadata": {},
   "outputs": [],
   "source": []
  },
  {
   "cell_type": "code",
   "execution_count": null,
   "metadata": {},
   "outputs": [],
   "source": []
  },
  {
   "cell_type": "markdown",
   "metadata": {},
   "source": [
    "### Signaling Between Processes"
   ]
  },
  {
   "cell_type": "markdown",
   "metadata": {},
   "source": [
    "* The `os` examples include a demonstration of signaling between processes using `os.fork()` and `os.kill()`. \n",
    "* Since each `Popen` instance provides a pid attribute with the process id of the child process, it is possible to do something similar with subprocess. For example, using this script for the child process to be executed by the parent process."
   ]
  },
  {
   "cell_type": "code",
   "execution_count": null,
   "metadata": {},
   "outputs": [],
   "source": [
    "%writefile signal_child.py\n",
    "import os\n",
    "import signal\n",
    "import time\n",
    "import sys\n",
    "\n",
    "pid = os.getpid()\n",
    "received = False\n",
    "\n",
    "def signal_usr1(signum, frame):\n",
    "    \"Callback invoked when a signal is received\"\n",
    "    global received\n",
    "    received = True\n",
    "    print('CHILD %6s: Received USR1' % pid)\n",
    "    sys.stdout.flush()\n",
    "\n",
    "print('CHILD %6s: Setting up signal handler' % pid)\n",
    "sys.stdout.flush()\n",
    "signal.signal(signal.SIGUSR1, signal_usr1)\n",
    "print('CHILD %6s: Pausing to wait for signal' % pid)\n",
    "sys.stdout.flush()\n",
    "time.sleep(3)\n",
    "\n",
    "if not received:\n",
    "    print('CHILD %6s: Never received signal' % pid)"
   ]
  },
  {
   "cell_type": "code",
   "execution_count": null,
   "metadata": {},
   "outputs": [],
   "source": [
    "%writefile signal_parent.py\n",
    "import os\n",
    "import signal\n",
    "import subprocess\n",
    "import time\n",
    "import sys\n",
    "\n",
    "proc = subprocess.Popen(['python', 'signal_child.py'])\n",
    "print('PARENT      : Pausing before sending signal...')\n",
    "sys.stdout.flush()\n",
    "time.sleep(1)\n",
    "print('PARENT      : Signaling child')\n",
    "sys.stdout.flush()\n",
    "os.kill(proc.pid, signal.SIGUSR1)"
   ]
  },
  {
   "cell_type": "code",
   "execution_count": null,
   "metadata": {},
   "outputs": [],
   "source": [
    "run signal_parent.py"
   ]
  },
  {
   "cell_type": "markdown",
   "metadata": {},
   "source": [
    "### Ping Command and Display Back its Output"
   ]
  },
  {
   "cell_type": "code",
   "execution_count": null,
   "metadata": {},
   "outputs": [],
   "source": [
    "p = subprocess.Popen([\"ping\", \"-c\", \"10\", \"www.cyberciti.biz\"], \n",
    "                     stdout=subprocess.PIPE, \n",
    "                     universal_newlines=True)\n",
    "output, err = p.communicate()\n",
    "print(output)"
   ]
  },
  {
   "cell_type": "markdown",
   "metadata": {},
   "source": [
    "* The only problem with above code is that `output, err = p.communicate()` will block next statement till ping is completed i.e. you will not get real time output from the ping command. So you can use the following code to get real time output:"
   ]
  },
  {
   "cell_type": "code",
   "execution_count": null,
   "metadata": {},
   "outputs": [],
   "source": [
    "import sys\n",
    "cmdping = \"ping -c 10 www.cyberciti.biz\"\n",
    "p = subprocess.Popen(cmdping, \n",
    "                     shell=True, \n",
    "                     stderr=subprocess.PIPE)\n",
    "\n",
    "while True:\n",
    "    out = p.stderr.read(1)\n",
    "    if out == '' and p.poll() != None:\n",
    "        break\n",
    "    if out != '':\n",
    "        sys.stdout.write(out)\n",
    "        sys.stdout.flush()"
   ]
  },
  {
   "cell_type": "code",
   "execution_count": null,
   "metadata": {},
   "outputs": [],
   "source": []
  }
 ],
 "metadata": {
  "kernelspec": {
   "display_name": "Python 3",
   "language": "python",
   "name": "python3"
  },
  "language_info": {
   "codemirror_mode": {
    "name": "ipython",
    "version": 3
   },
   "file_extension": ".py",
   "mimetype": "text/x-python",
   "name": "python",
   "nbconvert_exporter": "python",
   "pygments_lexer": "ipython3",
   "version": "3.7.3"
  }
 },
 "nbformat": 4,
 "nbformat_minor": 1
}
