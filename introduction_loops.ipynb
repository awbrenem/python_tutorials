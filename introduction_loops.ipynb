{
 "cells": [
  {
   "cell_type": "markdown",
   "metadata": {
    "slideshow": {
     "slide_type": "slide"
    }
   },
   "source": [
    "![NASA](http://www.nasa.gov/sites/all/themes/custom/nasatwo/images/nasa-logo.svg)\n",
    "\n",
    "<center><h1><font size=\"+3\">GSFC Python Bootcamp</font></h1></center>\n",
    "\n",
    "---\n",
    "\n",
    "<center><h1>\n",
    "    <font color=\"red\">Python Iterative Programming: Loops</font>  \n",
    "</h1></center>"
   ]
  },
  {
   "cell_type": "markdown",
   "metadata": {
    "slideshow": {
     "slide_type": "fragment"
    }
   },
   "source": [
    "![Point to the board.](http://www.thedoghousediaries.com/dhdcomics/2011-03-28-e1660dc.png)\n",
    "Image Credit: [Source](http://www.thedoghousediaries.com/dhdcomics/2011-03-28-e1660dc.png)"
   ]
  },
  {
   "cell_type": "markdown",
   "metadata": {
    "slideshow": {
     "slide_type": "subslide"
    }
   },
   "source": [
    "# Purpose\n",
    "\n",
    "---\n",
    "\n",
    "To reuse code and make our lives much, much, easier."
   ]
  },
  {
   "cell_type": "markdown",
   "metadata": {
    "slideshow": {
     "slide_type": "fragment"
    }
   },
   "source": [
    "__For example:__\n",
    "\n",
    "To add 1, 5 times is `1 + 1 + 1 + 1 + 1 = 5`.  \n",
    "In loops, however, we just have this logic:\n",
    "\n",
    "`x = 1` \n",
    "\n",
    "`x = x + 1 # (do this 4 times)`"
   ]
  },
  {
   "cell_type": "markdown",
   "metadata": {},
   "source": [
    "+ Repetitive execution of the same block of code over and over is referred to as **iteration**.\n",
    "+ There are two types of iteration:\n",
    "     1. **Definite** iteration, in which the number of repetitions is specified explicitly in advance (`for` loop).\n",
    "     2. **Indefinite** iteration, in which the code block executes until some condition is met (`while` loop)."
   ]
  },
  {
   "cell_type": "markdown",
   "metadata": {
    "slideshow": {
     "slide_type": "subslide"
    }
   },
   "source": [
    "# The `for` Loop\n",
    "\n",
    "+ Iterates over a collection of objects (iterable), rather than specifying numeric values or conditions.\n",
    "\n",
    "\n",
    "---\n",
    "\n",
    "```python\n",
    "for item in iterable:\n",
    "    # Python code\n",
    "```\n",
    "\n",
    "The `for` loop processes until the last element of iterable has been used."
   ]
  },
  {
   "cell_type": "code",
   "execution_count": null,
   "metadata": {
    "slideshow": {
     "slide_type": "subslide"
    }
   },
   "outputs": [],
   "source": [
    "total = 0\n",
    "\n",
    "for number in range(5):\n",
    "    # number = 0, 1, 2, 3, 4\n",
    "    total = total + 1\n",
    "\n",
    "print(total)"
   ]
  },
  {
   "cell_type": "code",
   "execution_count": null,
   "metadata": {
    "slideshow": {
     "slide_type": "fragment"
    }
   },
   "outputs": [],
   "source": [
    "students = ['Bob', 'Sue', 'Joe', 'Betty']\n",
    "\n",
    "for student in students:\n",
    "    # student is a temporary variable pointing to the current item\n",
    "    print(student)"
   ]
  },
  {
   "cell_type": "markdown",
   "metadata": {
    "slideshow": {
     "slide_type": "subslide"
    }
   },
   "source": [
    "# Specifying a Change of Direction\n",
    "\n",
    "---\n",
    "\n",
    "Use the keywords __`continue`__, __`break`__, or __`pass`__ to change the behavior of conditionals and loops.\n",
    "\n",
    "![fig_direction1](https://cdn.askpython.com/wp-content/uploads/2019/07/continue-statement-flow-diagram.png)\n",
    "Image Source: www.askpython.com\n",
    "\n",
    "![fig_direction2](https://resize.yandex.net/mailservice?url=https%3A%2F%2Fi1.faceprep.in%2FCompanies-1%2Fbreak-control-statements-in-python.png&proxy=yes&key=f28f800978695c8cfa317523f1a40e23)\n",
    "Image Source: www.faceprep.in"
   ]
  },
  {
   "cell_type": "code",
   "execution_count": null,
   "metadata": {
    "slideshow": {
     "slide_type": "fragment"
    }
   },
   "outputs": [],
   "source": [
    "total = 0\n",
    "\n",
    "for number in range(10):\n",
    "    if total == 5:\n",
    "        break\n",
    "    total = total + 1\n",
    "\n",
    "print(total)"
   ]
  },
  {
   "cell_type": "markdown",
   "metadata": {},
   "source": [
    "| `continue` |\t`break` |\t`pass` |\n",
    "| --- | --- | --- |\n",
    "| Skips only the current iteration of the loop.\t| Terminates the loop.\t| Is used to write empty code blocks. | \n",
    "| Can only be used only inside a loop.\t| Can only be used inside a loop. | Can be used anywhere in the Python code. | "
   ]
  },
  {
   "cell_type": "markdown",
   "metadata": {},
   "source": [
    "## `for` Loop with `else` Statement\n",
    "\n",
    "```python\n",
    "for <variable> in <sequence>:\n",
    "\t<statements>\n",
    "else:\n",
    "\t<statements>\n",
    "```\n",
    "\n",
    "+ The else block will be executed only if the loop hasn't been \"broken\" by a break statement. \n",
    "+ It will only be executed, after all the items of the sequence in the header have been used."
   ]
  },
  {
   "cell_type": "code",
   "execution_count": null,
   "metadata": {},
   "outputs": [],
   "source": [
    "edibles = [\"ham\", \"spam\",\"eggs\",\"nuts\"]\n",
    "for food in edibles:\n",
    "    if food == \"spam\":\n",
    "        print(\"No more spam please!\")\n",
    "        break\n",
    "    print(\"Great, delicious \" + food)\n",
    "else:\n",
    "    print(\"I am so glad: No spam!\")\n",
    "print(\"Finally, I finished stuffing myself\")"
   ]
  },
  {
   "cell_type": "markdown",
   "metadata": {
    "slideshow": {
     "slide_type": "subslide"
    }
   },
   "source": [
    "# Breakout 1\n",
    "\n",
    "Print all the numbers from the output of `range(50)` backwards starting with 49 down to 7."
   ]
  },
  {
   "cell_type": "markdown",
   "metadata": {},
   "source": [
    "# Breakout 2 \n",
    "### (Flipping of a coin)\n",
    "If you excute the code segment:\n",
    "\n",
    "       import random\n",
    "       print(random.choices('TH'))\n",
    "\n",
    "you will get either **['T']** or **['H']**. \n",
    "\n",
    "Write a program that simulates the flipping of a coin 1000 times and print the total numbers of Heads ('H') and  Tails ('T').\n"
   ]
  },
  {
   "cell_type": "markdown",
   "metadata": {},
   "source": [
    "# Breakout 3\n",
    "\n",
    "### (Entering the password)\n",
    "We want to write a code that simulates providing the password:\n",
    "\n",
    "* You have at most three attempts.\n",
    "* If you provide the right password, the code will print `Welcome in!`.\n",
    "* If you provide the wrong password and it is not the third attempt, the code will print `Wong password. Please try again.` and ask you to enter again the password.\n",
    "* If your third attempt is not successful, the code will write `You are not allowed to access this computer!` and exit.\n",
    "\n",
    "Assume that the right password is **PyTHoN** and use the function `input()` for asking the password from the command line.\n"
   ]
  },
  {
   "cell_type": "markdown",
   "metadata": {
    "slideshow": {
     "slide_type": "subslide"
    }
   },
   "source": [
    "# The `while` Loop\n",
    "\n",
    "\n",
    "+ The while loop tells the computer to do something as long as the condition is met.\n",
    "+ Its construct consists of a block of code and a condition. \n",
    "---\n",
    "\n",
    "```python\n",
    "while condition:\n",
    "    # Python code\n",
    "```\n",
    "\n",
    "The `while` loop continues to process indefinitely until `condition` evaluates to False."
   ]
  },
  {
   "cell_type": "code",
   "execution_count": null,
   "metadata": {
    "slideshow": {
     "slide_type": "subslide"
    }
   },
   "outputs": [],
   "source": [
    "i = 50\n",
    "\n",
    "while i >= 7:\n",
    "    print(i)"
   ]
  },
  {
   "cell_type": "markdown",
   "metadata": {
    "slideshow": {
     "slide_type": "subslide"
    }
   },
   "source": [
    "# Warning!\n",
    "Think about your code before you run it. Without close inspection, you can create an infinite loop in your program.\n",
    "\n",
    "---"
   ]
  },
  {
   "cell_type": "code",
   "execution_count": null,
   "metadata": {
    "slideshow": {
     "slide_type": "fragment"
    }
   },
   "outputs": [],
   "source": [
    "# endless loop example (You have been warned!)\n",
    "# while True:\n",
    "#     Python code\n",
    "#\n",
    "#     can use these statements to change control here too\n",
    "#     continue\n",
    "#     or pass\n",
    "#     or break"
   ]
  },
  {
   "cell_type": "markdown",
   "metadata": {
    "slideshow": {
     "slide_type": "subslide"
    }
   },
   "source": [
    "# Breakout\n",
    "\n",
    "You can get user input as a string with the `input` function:\n",
    "\n",
    "```python\n",
    "number_of_eggs = input('How many eggs are in a dozen?')\n",
    "```\n",
    "\n",
    "Use this function with a for loop to prompt a user for their first and last names separately.  \n",
    "You will need to also test that the user does not enter just a space `' '` by re-prompting them when they only enter a space.\n",
    "\n",
    "__Note:__ Python 2.x users will have to use the `raw_input()` function."
   ]
  },
  {
   "cell_type": "markdown",
   "metadata": {
    "slideshow": {
     "slide_type": "subslide"
    }
   },
   "source": [
    "# Nested Loops\n",
    "\n",
    "---\n",
    "\n",
    "As your programs become more and more complex, you will need to iterate over multiple items at once, such as subitems of an iterable's item. We can do this with nested loops.\n",
    "\n",
    "One example of this is 2D data (or a matrix). We can loop over the matrix by the columns then rows, or vice versa."
   ]
  },
  {
   "cell_type": "markdown",
   "metadata": {
    "slideshow": {
     "slide_type": "subslide"
    }
   },
   "source": [
    "# Breakout\n",
    "\n",
    "---\n",
    "\n",
    "Use either a `for` loop or a `while` loop or a nested loop to print out only the non-zero elements of this two-dimensional list:\n",
    "\n",
    "```python\n",
    "a = [\n",
    "    [0,0,0,0,1],\n",
    "    [0,0,0,2,0],\n",
    "    [0,0,3,0,0],\n",
    "    [0,4,0,0,0],\n",
    "    [5,0,0,0,0]\n",
    "]```"
   ]
  }
 ],
 "metadata": {
  "celltoolbar": "Slideshow",
  "kernelspec": {
   "display_name": "Python 3",
   "language": "python",
   "name": "python3"
  },
  "language_info": {
   "codemirror_mode": {
    "name": "ipython",
    "version": 3
   },
   "file_extension": ".py",
   "mimetype": "text/x-python",
   "name": "python",
   "nbconvert_exporter": "python",
   "pygments_lexer": "ipython3",
   "version": "3.7.3"
  }
 },
 "nbformat": 4,
 "nbformat_minor": 2
}
