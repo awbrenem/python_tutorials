{
 "cells": [
  {
   "cell_type": "markdown",
   "metadata": {},
   "source": [
    "![NASA](http://www.nasa.gov/sites/all/themes/custom/nasatwo/images/nasa-logo.svg)\n",
    "\n",
    "<center>\n",
    "<h1><font size=\"+3\">NCCS Training Course Series</font></h1>\n",
    "</center>\n",
    "\n",
    "---\n",
    "\n",
    "<center>\n",
    "    <h1><font color=\"red\">Introduction to Jupyter Notebook</font></h1>\n",
    "</center>"
   ]
  },
  {
   "cell_type": "markdown",
   "metadata": {},
   "source": [
    "## <font color=\"blue\">Useful References</font>\n",
    "\n",
    "- <a href=\"https://www.dataquest.io/blog/jupyter-notebook-tutorial/\">Jupyter Notebook for Beginners: A Tutorial</a>\n",
    "- <a href=\"https://realpython.com/jupyter-notebook-introduction/\">Jupyter Notebook: An Introduction</a>"
   ]
  },
  {
   "cell_type": "markdown",
   "metadata": {},
   "source": [
    "## <font color=\"blue\">What is Jupyter Notebook?</font>\n",
    "\n",
    "- A notebook integrates code and its output into a single document that combines visualizations, narrative text, mathematical equations, and other rich media.\n",
    "- The Jupyter Notebook is a powerful tool for interactively developing and presenting data science projects. \n",
    "- Different programming languages can be used within Jupyter Notebooks. Our focus here is on Python.\n",
    "\n",
    "A **jupyter notebook** is a frontend that allows for new modes of interaction with Python: \n",
    "- This web-based interface allows you to execute Python and IPython\n",
    "commands in each input cell just like you would at the IPython terminal or Qt console.\n",
    "- You can also save an entire session as a document in a file with the `.ipynb` extension (text file that describes the contents of your notebook in a format called JSON).\n",
    "\n",
    "The document you are reading now is precisely an example of one such notebook, and we will show you here how to best use this new interface.\n",
    "\n",
    "The first thing to understand is that a notebook consists of a sequence of 'cells' that can contain either **text** (such as this one) or **code** meant for execution (such as the next one):\n",
    "\n",
    "* Text cells (also called Markdown cells) are written using [Markdown syntax](http://daringfireball.net/projects/markdown/syntax). A Markdown cell displays its output in-place when it is run.\n",
    "\n",
    "* Code cells take IPython input (i.e. Python code, `%magics`, `!system calls`, etc) like IPython at the terminal or at the Qt Console.  The only difference is that in order to execute a cell, you *must*\n",
    "use `Shift-Enter`, as pressing `Enter` will add a new line of text to the cell.  When you type \n",
    "`Shift-Enter`, the cell content is executed, output displayed and a new cell is created below.  Try\n",
    "it now by putting your cursor on the next cell and typing `Shift-Enter`:"
   ]
  },
  {
   "cell_type": "code",
   "execution_count": null,
   "metadata": {},
   "outputs": [],
   "source": [
    "\"This is the new Jupyter notebook\""
   ]
  },
  {
   "cell_type": "markdown",
   "metadata": {},
   "source": [
    "You can re-execute the same cell over and over as many times as you want.  Simply put your\n",
    "cursor in the cell again, edit at will, and type `Shift-Enter` to execute.  \n",
    "\n",
    "**Tip:** A cell can also be executed\n",
    "*in-place*, where IPython executes its content but leaves the cursor in the same cell.  This is done by\n",
    "typing `Ctrl-Enter` instead, and is useful if you want to quickly run a command to check something \n",
    "before tping the real content you want to leave in the cell. For example, in the next cell, try issuing\n",
    "several system commands in-place with `Ctrl-Enter`, such as `pwd` and then `ls`:"
   ]
  },
  {
   "cell_type": "code",
   "execution_count": null,
   "metadata": {},
   "outputs": [],
   "source": [
    "ls"
   ]
  },
  {
   "cell_type": "code",
   "execution_count": null,
   "metadata": {},
   "outputs": [],
   "source": [
    "pwd"
   ]
  },
  {
   "cell_type": "markdown",
   "metadata": {},
   "source": [
    "In a cell, you can type anything from a single python expression to an arbitrarily long amount of code \n",
    "(although for reasons of readability, you should probably limit this to a few dozen lines):"
   ]
  },
  {
   "cell_type": "code",
   "execution_count": null,
   "metadata": {},
   "outputs": [],
   "source": [
    "def increment_number(x):\n",
    "    \"\"\"\n",
    "      Increment a number\n",
    "        Input parameter: x\n",
    "        Returned values: x+1\n",
    "    \"\"\"\n",
    "    return x+1\n",
    "\n",
    "x = 3\n",
    "print(\"Increment {}: {}\".format(x, increment_number(x)))"
   ]
  },
  {
   "cell_type": "markdown",
   "metadata": {},
   "source": [
    "## <font color=\"blue\">User interface</font>\n",
    "\n",
    "- When you start a new notebook server with `jupyter notebook`, your browser should open into the *Dashboard*, a page listing all notebooks available in the current directory as well as letting you create new notebooks.  \n",
    "- In this page, you can also drag and drop existing `.py` files over the file list to import them as notebooks (see the manual for \n",
    "[further details on how these files are \n",
    "interpreted](https://ipython.readthedocs.io/en/stable/)).\n",
    "\n",
    "- Once you open an existing notebook (like this one) or create a new one, you are in the main notebook interface, which consists of a main editing area (where these cells are contained) as well as a collapsible left panel, a permanent header area at the top, and a pager that rises from the bottom when needed and can be collapsed again."
   ]
  },
  {
   "cell_type": "markdown",
   "metadata": {},
   "source": [
    "### <font color=\"red\">Main Editing Area</font>\n",
    "\n",
    "- You can move with the arrow keys or using the scroll bars.  \n",
    "- The cursor enters code cells immediately, but only selects text (markdown) cells without entering in them; to enter a text cell, use `Enter`, and `Shift-Enter` to exit it again (just like to execute a code cell)."
   ]
  },
  {
   "cell_type": "markdown",
   "metadata": {},
   "source": [
    "### <font color=\"red\">Left Panel</font>\n",
    "\n",
    "- This panel contains a number of panes that can be\n",
    "collapsed vertically by clicking on their title bar, and the whole panel\n",
    "can also be collapsed by clicking on the vertical divider (note that you\n",
    "can not *drag* the divider, for now you can only click on it).\n",
    "\n",
    "- The **Notebook** section contains actions that pertain to the whole notebook,\n",
    "such as downloading the current notebook in different file formats (`.ipynb`, `.py`, `.html`, etc.), and printing it.  When you click the `Print` button, a new HTML page opens with a static copy of the notebook; you can then use your web browser's mechanisms to save or print this file.\n",
    "\n",
    "- The **Cell** section lets you manipulate individual cells, and the names should \n",
    "be fairly self-explanatory.\n",
    "\n",
    "- The **Kernel** section lets you signal the kernel executing your code. \n",
    "`Interrupt` does the equivalent of hitting `Ctrl-C` at a terminal, and\n",
    "`Restart` fully kills the kernel process and starts a fresh one.  Obviously\n",
    "this means that all your previous variables are destroyed, but it also\n",
    "makes it easy to get a fresh kernel in which to re-execute a notebook, perhaps\n",
    "after changing an extension module for which Python's `reload` mechanism\n",
    "does not work.   If you check the 'Kill kernel upon exit' box, when you \n",
    "close the page IPython will automatically shut down the running kernel;\n",
    "otherwise the kernels won't close until you stop the whole. \n",
    "\n",
    "- The **Help** section contains links to the documentation of some projects\n",
    "closely related to IPython as well as the minimal keybindings you need to\n",
    "know.  But you should use `Ctrl-m h` (or click the `QuickHelp` button at\n",
    "the top) and learn some of the other keybindings, as it will make your \n",
    "workflow much more fluid and efficient."
   ]
  },
  {
   "cell_type": "markdown",
   "metadata": {},
   "source": [
    "### <font color=\"red\">Header Bar</font>\n",
    "\n",
    "- The header area at the top allows you to rename an existing notebook and open up a short help tooltip.  \n",
    "- This area also indicates with a red **Busy** mark on the right whenever the kernel is busy executing code."
   ]
  },
  {
   "cell_type": "markdown",
   "metadata": {},
   "source": [
    "### <font color=\"red\">The Pager at the Bottom</font>\n",
    "\n",
    "- Whenever IPython needs to display additional information, such as when you type `somefunction?` in a cell, the notebook opens a pane at the bottom where this information is shown.  \n",
    "- You can keep this pager pane open for reference (it doesn't block input in the main area) or dismiss it by clicking on its divider bar."
   ]
  },
  {
   "cell_type": "markdown",
   "metadata": {},
   "source": [
    "### <font color=\"red\">Tab Completion and Tooltips</font>\n",
    "\n",
    "- The notebook uses the same underlying machinery for tab completion that \n",
    "IPython uses at the terminal, but displays the information differently.\n",
    "Whey you complete with the `Tab` key, IPython shows a drop list with all\n",
    "available completions.  \n",
    "- If you type more characters while this list is open,\n",
    "IPython automatically eliminates from the list options that don't match the\n",
    "new characters; once there is only one option left you can hit `Tab` once\n",
    "more (or `Enter`) to complete.  \n",
    "- You can also select the completion you\n",
    "want with the arrow keys or the mouse, and then hit `Enter`.\n",
    "\n",
    "- In addition, if you hit `Tab` inside of open parentheses, IPython will \n",
    "search for the docstring of the last object left of the parens and will\n",
    "display it on a tooltip. For example, type `list(<TAB>` and you will\n",
    "see the docstring for the builtin `list` constructor:"
   ]
  },
  {
   "cell_type": "code",
   "execution_count": null,
   "metadata": {},
   "outputs": [],
   "source": [
    "# Position your cursor after the ( and hit the Tab key:\n",
    "list("
   ]
  },
  {
   "cell_type": "markdown",
   "metadata": {},
   "source": [
    "## <font color=\"blue\">The Frontend/Kernel Model</font>\n",
    "\n",
    "- The Jupyter notebook works on a client/server model where an *IPython kernel*\n",
    "starts in a separate process and acts as a server to executes the code you type,\n",
    "while the web browser provides acts as a client, providing a front end environment\n",
    "for you to type.  \n",
    "- One kernel is capable of simultaneously talking to more than\n",
    "one client, and they do not all need to be of the same kind.  \n",
    "- All IPython frontends are capable of communicating with a kernel, and any number of them can be active at the same time.  In addition to allowing you to have, for example, more than one\n",
    "browser session active, this lets you connect clients with different user interface features.\n",
    "\n",
    "For example, you may want to connect a Qt console to your kernel and use it as a help\n",
    "browser, calling `??` on objects in the Qt console (whose pager is more flexible than the\n",
    "one in the notebook).  You can start a new Qt console connected to your current kernel by \n",
    "using the `%qtconsole` magic, this will automatically detect the necessary connection\n",
    "information.\n",
    "\n",
    "If you want to open one manually, or want to open a text console from a terminal, you can \n",
    "get your kernel's connection information with the `%connect_info` magic:"
   ]
  },
  {
   "cell_type": "code",
   "execution_count": null,
   "metadata": {},
   "outputs": [],
   "source": [
    "%connect_info"
   ]
  },
  {
   "cell_type": "markdown",
   "metadata": {},
   "source": [
    "## <font color=\"blue\">The Kernel's `input` and `%debug`</font>\n",
    "\n",
    "The one feature the notebook currently doesn't support as a client is the ability to send data to the kernel's\n",
    "standard input socket.  That is, if the kernel requires information to be typed interactively by calling the\n",
    "builtin `input` function, the notebook will be blocked.  This happens for example if you run a script\n",
    "that queries interactively for parameters, and very importantly, is how the interactive IPython debugger that \n",
    "activates when you type `%debug` works.\n",
    "\n",
    "So, in order to be able to use `%debug` or anything else that requires `input`, you can either use a Qt \n",
    "console or a terminal console:\n",
    "\n",
    "- From the notebook, typing `%qtconsole` finds all the necessary connection data for you.\n",
    "- From the terminal, first type `%connect_info` while still in the notebook, and then copy and paste the \n",
    "resulting information, using `qtconsole` or `console` depending on which type of client you want."
   ]
  },
  {
   "cell_type": "markdown",
   "metadata": {},
   "source": [
    "## Security\n",
    "\n",
    "By default the notebook only listens on localhost, so it does not expose your computer to attacks coming from\n",
    "the internet.  By default the notebook does not require any authentication, but you can configure it to\n",
    "ask for a password before allowing access to the files.  \n",
    "\n",
    "Furthermore, you can require the notebook to encrypt all communications by using SSL and making all connections\n",
    "using the https protocol instead of plain http.  This is a good idea if you decide to run your notebook on\n",
    "addresses that are visible from the internet.  \n",
    "\n",
    "Finally, note that you can also run a notebook with the `--read-only` flag, which lets you provide access\n",
    "to your notebook documents to others without letting them execute code (which can be useful to broadcast\n",
    "a computation to colleagues or students, for example).  The read-only flag behaves differently depending\n",
    "on whether the server has a password or not:\n",
    "\n",
    "- Passwordless server: users directly see all notebooks in read-only mode.\n",
    "- Password-protected server: users can see all notebooks in read-only mode, but a login button is available\n",
    "and once a user authenticates, he or she obtains write/execute privileges.\n",
    "\n",
    "The first case above makes it easy to broadcast on the fly an existing notebook by simply starting a *second* \n",
    "notebook server in the same directory as the first, but in read-only mode.  This can be done without having\n",
    "to configure a password first (which requires calling a hashing function and editing a configuration file)."
   ]
  },
  {
   "cell_type": "markdown",
   "metadata": {},
   "source": [
    "## <font color=\"blue\"> Beyond Plain Python</font>\n",
    "When executing code in IPython, all valid Python syntax works as-is, but IPython provides a number of features designed to make the interactive experience more fluid and efficient."
   ]
  },
  {
   "cell_type": "markdown",
   "metadata": {},
   "source": [
    "### Running code\n",
    "\n",
    "In the notebook, to run a cell of code, hit `Shift-Enter`. This executes the cell and puts the cursor in the next cell below, or makes a new one if you are at the end.  Alternately, you can use:\n",
    "    \n",
    "- `Alt-Enter` to force the creation of a new cell unconditionally (useful when inserting new content in the middle of an existing notebook).\n",
    "- `Control-Enter` executes the cell and keeps the cursor in the same cell, useful for quick experimentation of snippets that you don't need to keep permanently."
   ]
  },
  {
   "cell_type": "code",
   "execution_count": null,
   "metadata": {},
   "outputs": [],
   "source": [
    "print(\"Hello Class!\")"
   ]
  },
  {
   "cell_type": "markdown",
   "metadata": {},
   "source": [
    "### Getting Help"
   ]
  },
  {
   "cell_type": "code",
   "execution_count": null,
   "metadata": {},
   "outputs": [],
   "source": [
    "?"
   ]
  },
  {
   "cell_type": "markdown",
   "metadata": {},
   "source": [
    "### Help with `?` and `??`\n",
    "\n",
    "Typing `object_name?` will print all sorts of details about any object, including docstrings, function definition lines (for call arguments) and constructor details for classes."
   ]
  },
  {
   "cell_type": "code",
   "execution_count": null,
   "metadata": {},
   "outputs": [],
   "source": [
    "import collections\n",
    "collections.namedtuple?"
   ]
  },
  {
   "cell_type": "code",
   "execution_count": null,
   "metadata": {},
   "outputs": [],
   "source": [
    "collections.Counter??"
   ]
  },
  {
   "cell_type": "code",
   "execution_count": null,
   "metadata": {},
   "outputs": [],
   "source": [
    "*int*?"
   ]
  },
  {
   "cell_type": "markdown",
   "metadata": {},
   "source": [
    "An IPython quick reference card:"
   ]
  },
  {
   "cell_type": "code",
   "execution_count": null,
   "metadata": {},
   "outputs": [],
   "source": [
    "%quickref"
   ]
  },
  {
   "cell_type": "markdown",
   "metadata": {},
   "source": [
    "### Tab completion\n",
    "\n",
    "Tab completion, especially for attributes, is a convenient way to explore the structure of any object you’re dealing with. Simply type `object_name.<TAB>` to view the object’s attributes. Besides Python objects and keywords, tab completion also works on file and directory names."
   ]
  },
  {
   "cell_type": "code",
   "execution_count": null,
   "metadata": {},
   "outputs": [],
   "source": [
    "collections."
   ]
  },
  {
   "cell_type": "markdown",
   "metadata": {},
   "source": [
    "### The Interactive Workflow: input, output, history"
   ]
  },
  {
   "cell_type": "code",
   "execution_count": null,
   "metadata": {},
   "outputs": [],
   "source": [
    "17+9"
   ]
  },
  {
   "cell_type": "code",
   "execution_count": null,
   "metadata": {},
   "outputs": [],
   "source": [
    "_+8"
   ]
  },
  {
   "cell_type": "markdown",
   "metadata": {},
   "source": [
    "#### Output Control\n",
    "\n",
    "You can suppress the storage and rendering of output if you append `;` to the last cell (this comes in handy when plotting with matplotlib, for example):"
   ]
  },
  {
   "cell_type": "code",
   "execution_count": null,
   "metadata": {},
   "outputs": [],
   "source": [
    "4+7;"
   ]
  },
  {
   "cell_type": "code",
   "execution_count": null,
   "metadata": {},
   "outputs": [],
   "source": [
    "_"
   ]
  },
  {
   "cell_type": "markdown",
   "metadata": {},
   "source": [
    "#### Output History\n",
    "\n",
    "The output is stored in `_N` and `Out[N]` variables:"
   ]
  },
  {
   "cell_type": "code",
   "execution_count": null,
   "metadata": {},
   "outputs": [],
   "source": [
    "_15 == Out[15]"
   ]
  },
  {
   "cell_type": "code",
   "execution_count": null,
   "metadata": {},
   "outputs": [],
   "source": [
    "Out"
   ]
  },
  {
   "cell_type": "markdown",
   "metadata": {},
   "source": [
    "You can access previous 3 results using `_`, `__`, and `___` (single-, double-, and triple-underscore)."
   ]
  },
  {
   "cell_type": "code",
   "execution_count": null,
   "metadata": {},
   "outputs": [],
   "source": [
    "print('last output:', _)\n",
    "print('next one   :', __)\n",
    "print('and next   :', ___)"
   ]
  },
  {
   "cell_type": "markdown",
   "metadata": {},
   "source": [
    "#### The Input history is also available"
   ]
  },
  {
   "cell_type": "code",
   "execution_count": null,
   "metadata": {},
   "outputs": [],
   "source": [
    "In[16]"
   ]
  },
  {
   "cell_type": "code",
   "execution_count": null,
   "metadata": {},
   "outputs": [],
   "source": [
    "_i"
   ]
  },
  {
   "cell_type": "code",
   "execution_count": null,
   "metadata": {},
   "outputs": [],
   "source": [
    "_ii"
   ]
  },
  {
   "cell_type": "code",
   "execution_count": null,
   "metadata": {},
   "outputs": [],
   "source": [
    "print('last input:', _i)\n",
    "print('next one  :', _ii)\n",
    "print('and next  :', _iii)"
   ]
  },
  {
   "cell_type": "code",
   "execution_count": null,
   "metadata": {},
   "outputs": [],
   "source": [
    "%history"
   ]
  },
  {
   "cell_type": "markdown",
   "metadata": {},
   "source": [
    "### Accessing the Underlying Operating System\n",
    "\n",
    "**Note:** the commands below work on Linux or Macs, but may behave differently on Windows, as the underlying OS is different. IPython's ability to access the OS is still the same, it's just the syntax that varies per OS."
   ]
  },
  {
   "cell_type": "code",
   "execution_count": null,
   "metadata": {},
   "outputs": [],
   "source": [
    "!pwd"
   ]
  },
  {
   "cell_type": "code",
   "execution_count": null,
   "metadata": {},
   "outputs": [],
   "source": [
    "files = !ls\n",
    "print(\"My current directory's files:\")\n",
    "print(files)"
   ]
  },
  {
   "cell_type": "code",
   "execution_count": null,
   "metadata": {},
   "outputs": [],
   "source": [
    "!echo $files"
   ]
  },
  {
   "cell_type": "code",
   "execution_count": null,
   "metadata": {},
   "outputs": [],
   "source": [
    "!echo {files[0].upper()}"
   ]
  },
  {
   "cell_type": "markdown",
   "metadata": {},
   "source": [
    "### Magic Functions\n",
    "\n",
    "The IPyhton 'magic' functions are a set of commands, invoked by prepending one or two `%` signs to their name, that live in a namespace separate from your normal Python variables and provide a more command-like interface.  They take flags with `--` and arguments without quotes, parentheses or commas. The motivation behind this system is two-fold:\n",
    "    \n",
    "- To provide an orthogonal namespace for controlling IPython itself and exposing other system-oriented functionality.\n",
    "\n",
    "- To expose a calling mode that requires minimal verbosity and typing while working interactively.  Thus the inspiration taken from the classic Unix shell style for commands."
   ]
  },
  {
   "cell_type": "code",
   "execution_count": null,
   "metadata": {},
   "outputs": [],
   "source": [
    "%magic"
   ]
  },
  {
   "cell_type": "markdown",
   "metadata": {},
   "source": [
    "Line vs cell magics:"
   ]
  },
  {
   "cell_type": "code",
   "execution_count": null,
   "metadata": {},
   "outputs": [],
   "source": [
    "%timeit range(10)"
   ]
  },
  {
   "cell_type": "code",
   "execution_count": null,
   "metadata": {},
   "outputs": [],
   "source": [
    "%%timeit\n",
    "range(10)\n",
    "range(100)"
   ]
  },
  {
   "cell_type": "markdown",
   "metadata": {},
   "source": [
    "Line magics can be used even inside code blocks:"
   ]
  },
  {
   "cell_type": "code",
   "execution_count": null,
   "metadata": {},
   "outputs": [],
   "source": [
    "for i in range(5):\n",
    "    size = i*100\n",
    "    print('size:',size) \n",
    "    %timeit range(size)"
   ]
  },
  {
   "cell_type": "markdown",
   "metadata": {},
   "source": [
    "Magics can do anything they want with their input, so it doesn't have to be valid Python:"
   ]
  },
  {
   "cell_type": "code",
   "execution_count": null,
   "metadata": {},
   "outputs": [],
   "source": [
    "%%bash\n",
    "echo \"My shell is:\" $SHELL\n",
    "echo \"My memory status is:\""
   ]
  },
  {
   "cell_type": "markdown",
   "metadata": {},
   "source": [
    "Another interesting cell magic: create any file you want locally from the notebook:"
   ]
  },
  {
   "cell_type": "code",
   "execution_count": null,
   "metadata": {},
   "outputs": [],
   "source": [
    "%%writefile test.txt\n",
    "This is a test file!\n",
    "It can contain anything I want...\n",
    "\n",
    "more..."
   ]
  },
  {
   "cell_type": "code",
   "execution_count": null,
   "metadata": {},
   "outputs": [],
   "source": [
    "!cat test.txt"
   ]
  },
  {
   "cell_type": "markdown",
   "metadata": {},
   "source": [
    "Let's see what other magics are currently defined in the system:"
   ]
  },
  {
   "cell_type": "code",
   "execution_count": null,
   "metadata": {},
   "outputs": [],
   "source": [
    "%lsmagic"
   ]
  },
  {
   "cell_type": "markdown",
   "metadata": {},
   "source": [
    "### Display of Complex Objects"
   ]
  },
  {
   "cell_type": "code",
   "execution_count": null,
   "metadata": {},
   "outputs": [],
   "source": [
    "from IPython.display import display\n",
    "from IPython.display import Math\n",
    "from IPython.display import Latex\n",
    "display(Math(r'\\sqrt{a^2 + b^2}')) "
   ]
  },
  {
   "cell_type": "markdown",
   "metadata": {},
   "source": [
    "### Running Normal Python Code: execution and errors\n",
    "\n",
    "Not only can you input normal Python code, you can even paste straight from a Python or IPython shell session:"
   ]
  },
  {
   "cell_type": "code",
   "execution_count": null,
   "metadata": {},
   "outputs": [],
   "source": [
    ">>> # Fibonacci series:\n",
    "... # the sum of two elements defines the next\n",
    "... a, b = 0, 1\n",
    ">>> while b < 10:\n",
    "...     print(b)\n",
    "...     a, b = b, a+b"
   ]
  },
  {
   "cell_type": "code",
   "execution_count": null,
   "metadata": {},
   "outputs": [],
   "source": [
    "In [1]: for i in range(10):\n",
    "   ...:     print(i, end=' ')\n",
    "   ...:  "
   ]
  },
  {
   "cell_type": "markdown",
   "metadata": {},
   "source": [
    "### Error Display\n",
    "And when your code produces errors, you can control how they are displayed with the `%xmode` magic:"
   ]
  },
  {
   "cell_type": "code",
   "execution_count": null,
   "metadata": {},
   "outputs": [],
   "source": [
    "%%writefile my_module.py\n",
    "\n",
    "def f(x):\n",
    "    return 1.0/(x-1)\n",
    "\n",
    "def g(y):\n",
    "    return f(y+1)"
   ]
  },
  {
   "cell_type": "markdown",
   "metadata": {},
   "source": [
    "Now let's call the function `g` with an argument that would produce an error:"
   ]
  },
  {
   "cell_type": "code",
   "execution_count": null,
   "metadata": {},
   "outputs": [],
   "source": [
    "import my_module\n",
    "my_module.g(0)"
   ]
  },
  {
   "cell_type": "markdown",
   "metadata": {},
   "source": [
    "### Plain Exceptions"
   ]
  },
  {
   "cell_type": "code",
   "execution_count": null,
   "metadata": {},
   "outputs": [],
   "source": [
    "%xmode plain\n",
    "my_module.g(0)"
   ]
  },
  {
   "cell_type": "markdown",
   "metadata": {},
   "source": [
    "### Verbose Exceptions"
   ]
  },
  {
   "cell_type": "code",
   "execution_count": null,
   "metadata": {},
   "outputs": [],
   "source": [
    "%xmode verbose\n",
    "my_module.g(0)"
   ]
  },
  {
   "cell_type": "markdown",
   "metadata": {},
   "source": [
    "The default `%xmode` is \"context\", which shows additional context but not all local variables.  Let's restore that one for the rest of our session."
   ]
  },
  {
   "cell_type": "code",
   "execution_count": null,
   "metadata": {},
   "outputs": [],
   "source": [
    "%xmode context"
   ]
  },
  {
   "cell_type": "markdown",
   "metadata": {},
   "source": [
    "### Raw Input in the Notebook\n",
    "\n",
    "Since 1.0 the IPython notebook web application support raw input which for example allow us to invoke the `%debug` magic in the notebook:"
   ]
  },
  {
   "cell_type": "code",
   "execution_count": null,
   "metadata": {},
   "outputs": [],
   "source": [
    "my_module.g(0)"
   ]
  },
  {
   "cell_type": "code",
   "execution_count": null,
   "metadata": {},
   "outputs": [],
   "source": [
    "%debug"
   ]
  },
  {
   "cell_type": "markdown",
   "metadata": {},
   "source": [
    "Don't foget to exit your debugging session. Raw input can of course be use to ask for user input:"
   ]
  },
  {
   "cell_type": "code",
   "execution_count": null,
   "metadata": {},
   "outputs": [],
   "source": [
    "enjoy = input('Are you enjoying this tutorial ?')\n",
    "print('Enjoy is :', enjoy)"
   ]
  },
  {
   "cell_type": "markdown",
   "metadata": {},
   "source": [
    "### Plotting in the Notebook\n",
    "\n",
    "This imports numpy as `np` and matplotlib's plotting routines as `plt`, plus setting lots of other stuff for you to work interactivel very easily:"
   ]
  },
  {
   "cell_type": "code",
   "execution_count": null,
   "metadata": {},
   "outputs": [],
   "source": [
    "%matplotlib notebook\n",
    "import numpy as np\n",
    "import matplotlib.pyplot as plt\n",
    "from matplotlib.pyplot import gcf"
   ]
  },
  {
   "cell_type": "code",
   "execution_count": null,
   "metadata": {},
   "outputs": [],
   "source": [
    "x = np.linspace(0, 2*np.pi, 300)\n",
    "y = np.sin(x**2)\n",
    "plt.plot(x, y)\n",
    "plt.title(\"A little chirp\")\n",
    "f = gcf()  # let's keep the figure object around for later..."
   ]
  },
  {
   "cell_type": "markdown",
   "metadata": {},
   "source": []
  }
 ],
 "metadata": {
  "kernelspec": {
   "display_name": "Python 3",
   "language": "python",
   "name": "python3"
  },
  "language_info": {
   "codemirror_mode": {
    "name": "ipython",
    "version": 3
   },
   "file_extension": ".py",
   "mimetype": "text/x-python",
   "name": "python",
   "nbconvert_exporter": "python",
   "pygments_lexer": "ipython3",
   "version": "3.7.3"
  }
 },
 "nbformat": 4,
 "nbformat_minor": 1
}
