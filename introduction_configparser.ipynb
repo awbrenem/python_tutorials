{
 "cells": [
  {
   "cell_type": "markdown",
   "metadata": {},
   "source": [
    "![NASA](http://www.nasa.gov/sites/all/themes/custom/nasatwo/images/nasa-logo.svg)\n",
    "\n",
    "<center>\n",
    "<h1><font size=\"+3\">GSFC Python Bootcamp</font></h1>\n",
    "</center>\n",
    "\n",
    "---\n",
    "\n",
    "<CENTER>\n",
    "<H1 style=\"color:red\">\n",
    "Introduction to ConfigParser\n",
    "\n",
    "</CENTER>"
   ]
  },
  {
   "cell_type": "code",
   "execution_count": null,
   "metadata": {},
   "outputs": [],
   "source": [
    "from __future__ import print_function"
   ]
  },
  {
   "cell_type": "markdown",
   "metadata": {},
   "source": [
    "## Reference Documents\n",
    "\n",
    "+ <a href=\"http://zetcode.com/python/configparser/\"> Python ConfigParser Tutorial</a>\n",
    "+ <a href=\"https://pymotw.com/3/configparser/\">configparser — Work with Configuration Files</a>"
   ]
  },
  {
   "cell_type": "markdown",
   "metadata": {},
   "source": [
    "## <font color=\"red\">What is `ConfigParser`?</font>\n",
    "\n",
    "+ A class which implements a basic configuration language for Python programs.\n",
    "+ Provide a structure similar to Microsoft Windows INI files.\n",
    "+ Allows to write Python programs which can be easily customized by end users.\n",
    "+ The most common use for a configuration file is to have a user or system administrator edit the file with a regular text editor to set application behavior defaults and then have the application read the file, parse it, and act based on its contents. "
   ]
  },
  {
   "cell_type": "markdown",
   "metadata": {},
   "source": [
    "## <font color=\"red\">Content of a Config File</font>\n",
    "\n",
    "A config file can contain integers, floating point values, and Booleans. \n",
    "\n",
    "+ The config file sections can be identified by having lines starting with `[` and ending with `]`. \n",
    "+ Between square brackets, we can put the section’s name, which can be any character except square bracket itself.\n",
    "+ Lines starting with `;` or `#` are treated as comments and are not available programmatically.\n",
    "+ The values are separated by a `=` or a `:`. Whitespace around the separator is ignored when the file is parsed."
   ]
  },
  {
   "cell_type": "code",
   "execution_count": null,
   "metadata": {},
   "outputs": [],
   "source": [
    "%%writefile sample_config.cfg\n",
    "# This is an example of configuration file.\n",
    "[USERCONFIG]\n",
    "message = Virtual Python Courses\n",
    "          Available for all NASA Employees\n",
    "author = ASTG\n",
    "organization = CODE 606\n",
    "url = https://astg606.github.io/py_courses/virtual_courses/\n",
    "    \n",
    "[Course]\n",
    "name = Tutorial on ConfigParser\n",
    "location = Microsoft Teams \n",
    "\n",
    "[Miscellanous]\n",
    "year = 2020\n",
    "month = 4\n",
    "day = 23\n",
    "time= 10-11am\n",
    "open = true\n",
    "video = no\n",
    "dummy = 10.75"
   ]
  },
  {
   "cell_type": "markdown",
   "metadata": {},
   "source": [
    "## <font color=\"red\">Using a Config File</font>"
   ]
  },
  {
   "cell_type": "code",
   "execution_count": null,
   "metadata": {},
   "outputs": [],
   "source": [
    "import configparser\n",
    "import os"
   ]
  },
  {
   "cell_type": "markdown",
   "metadata": {},
   "source": [
    "**Initialize the Parser**"
   ]
  },
  {
   "cell_type": "code",
   "execution_count": null,
   "metadata": {},
   "outputs": [],
   "source": [
    "config = configparser.ConfigParser()"
   ]
  },
  {
   "cell_type": "markdown",
   "metadata": {},
   "source": [
    "**Open the Config File**\n",
    "\n",
    "- Use the `read` method.\n",
    "- It the file to read exist, it will return the name of the file."
   ]
  },
  {
   "cell_type": "code",
   "execution_count": null,
   "metadata": {},
   "outputs": [],
   "source": [
    "config_file = 'sample_config.cfg'\n",
    "if os.path.isfile(config_file):\n",
    "   found = config.read(config_file)\n",
    "   print(\"Found file : {}\".format(found))"
   ]
  },
  {
   "cell_type": "markdown",
   "metadata": {},
   "source": [
    "**Read Data in the Config File**\n",
    "\n",
    "- Use the method `get`.\n",
    "- It always return a string."
   ]
  },
  {
   "cell_type": "code",
   "execution_count": null,
   "metadata": {},
   "outputs": [],
   "source": [
    "message     = config.get('USERCONFIG', 'message')\n",
    "url_address = config.get('USERCONFIG', 'url')\n",
    "\n",
    "print(\"Message: \", message)\n",
    "print(\"url Address: \", url_address)"
   ]
  },
  {
   "cell_type": "code",
   "execution_count": null,
   "metadata": {},
   "outputs": [],
   "source": [
    "program_name     = config.get('Course', 'name')\n",
    "program_location = config.get('Course', 'location')\n",
    "\n",
    "print(\"Program Name:     \", program_name)\n",
    "print(\"Program Location: \", program_location)"
   ]
  },
  {
   "cell_type": "markdown",
   "metadata": {},
   "source": [
    "- All section and option names are treated as strings.\n",
    "- However, option values can be strings, integers, floating point numbers, or Booleans.\n",
    "- `ConfigParser` does not make any attempt to understand the option type. \n",
    "- The application is expected to use the correct method to fetch the value as the desired type.\n",
    "- Use `getint` for integers, `getfloat` for floating point numbers, and `getboolean` for boolean values."
   ]
  },
  {
   "cell_type": "code",
   "execution_count": null,
   "metadata": {},
   "outputs": [],
   "source": [
    "year = config.getint('Miscellanous', 'year')\n",
    "month = config.getint('Miscellanous', 'month')\n",
    "print(\"Integer (year)  --> {}\".format(year))\n",
    "print(\"Integer (month) --> {}\".format(month))"
   ]
  },
  {
   "cell_type": "code",
   "execution_count": null,
   "metadata": {},
   "outputs": [],
   "source": [
    "dummy = config.getfloat('Miscellanous', 'dummy')\n",
    "print(\"Floating point   --> {}\".format(dummy))"
   ]
  },
  {
   "cell_type": "code",
   "execution_count": null,
   "metadata": {},
   "outputs": [],
   "source": [
    "video = config.getboolean('Miscellanous', 'video')\n",
    "class_open = config.getboolean('Miscellanous', 'open')\n",
    "print(\"Video available?   --> {}\".format(video))\n",
    "print(\"Is the class open? --> {}\".format(class_open))"
   ]
  },
  {
   "cell_type": "markdown",
   "metadata": {},
   "source": [
    "**Get all the Sections**\n",
    "\n",
    "Use the method `sections`."
   ]
  },
  {
   "cell_type": "code",
   "execution_count": null,
   "metadata": {},
   "outputs": [],
   "source": [
    "all_sections = config.sections()\n",
    "print(type(all_sections))\n",
    "print(\"List of Sections: \", all_sections)"
   ]
  },
  {
   "cell_type": "markdown",
   "metadata": {},
   "source": [
    "**List of Keys for Each Section**\n",
    "\n",
    "Use the method `options`."
   ]
  },
  {
   "cell_type": "code",
   "execution_count": null,
   "metadata": {},
   "outputs": [],
   "source": [
    "for section_name in all_sections:\n",
    "    print('---> ', section_name)\n",
    "    print('  \\t Options: {}'.format(config.options(section_name))) "
   ]
  },
  {
   "cell_type": "markdown",
   "metadata": {},
   "source": [
    "**Print all the variables and their values for each section in the configuration file**\n",
    "\n",
    "Use the method `items` that returns pairs of keys and values of a given section."
   ]
  },
  {
   "cell_type": "code",
   "execution_count": null,
   "metadata": {},
   "outputs": [],
   "source": [
    "for section_name in all_sections:\n",
    "    print('-' * 80)\n",
    "    print('--->', section_name)\n",
    "    print('-' * 80)\n",
    "    for name, value in config.items(section_name):\n",
    "        print('\\t  {} = {}'.format(name, value))\n",
    "    print()"
   ]
  },
  {
   "cell_type": "markdown",
   "metadata": {},
   "source": [
    "`ConfigParser` also supports the same mapping API as dict, with the `ConfigParser` acting as one dictionary containing separate dictionaries for each section."
   ]
  },
  {
   "cell_type": "code",
   "execution_count": null,
   "metadata": {},
   "outputs": [],
   "source": [
    "for section_name in config:\n",
    "    print('-' * 80)\n",
    "    print('--->', section_name)\n",
    "    print('-' * 80)\n",
    "    section = config[section_name]\n",
    "    print('  Options:', list(section.keys()))\n",
    "    for name in section:\n",
    "        print('\\t  {} = {}'.format(name, section[name]))\n",
    "    print()"
   ]
  },
  {
   "cell_type": "markdown",
   "metadata": {},
   "source": [
    "**Check if Section or Value Exists**\n",
    "\n",
    "Use the method `has_section` or `has_option`."
   ]
  },
  {
   "cell_type": "code",
   "execution_count": null,
   "metadata": {},
   "outputs": [],
   "source": [
    "config.has_section('USERCONFIG')"
   ]
  },
  {
   "cell_type": "code",
   "execution_count": null,
   "metadata": {},
   "outputs": [],
   "source": [
    "config.has_section('Virtual')"
   ]
  },
  {
   "cell_type": "code",
   "execution_count": null,
   "metadata": {},
   "outputs": [],
   "source": [
    "SECTIONS = ['USERCONFIG', 'Course', 'TEST']\n",
    "OPTIONS = ['author', 'location', 'month', 'year']\n",
    "    \n",
    "for section in SECTIONS:\n",
    "    has_section = config.has_section(section)\n",
    "    print('{} section exists: {}'.format(section, has_section))\n",
    "    for candidate in OPTIONS:\n",
    "        has_option = config.has_option(section, candidate)\n",
    "        print('{}.{:<12}  : {}'.format(section, candidate, has_option))\n",
    "    print()"
   ]
  },
  {
   "cell_type": "code",
   "execution_count": null,
   "metadata": {},
   "outputs": [],
   "source": []
  },
  {
   "cell_type": "markdown",
   "metadata": {},
   "source": [
    "**Get the Value of a Config Variable**"
   ]
  },
  {
   "cell_type": "code",
   "execution_count": null,
   "metadata": {},
   "outputs": [],
   "source": [
    "def get_variable_value(config, section_name, var_name, default=None):\n",
    "    \"\"\"\n",
    "      Get the value of the variable contains in a specific section.\n",
    "\n",
    "      Input value:\n",
    "         - config: configuration object\n",
    "         - section_name: name of the section\n",
    "         - var_name: name of the variable\n",
    "         - default: default value if variable not present\n",
    "      Returned value:\n",
    "         - Value of var_name (None if it does not exist)\n",
    "           \n",
    "    \"\"\"\n",
    "    if config.has_option(section_name, var_name):\n",
    "        return config.get(section_name, var_name)\n",
    "    else:\n",
    "        return default"
   ]
  },
  {
   "cell_type": "markdown",
   "metadata": {},
   "source": [
    "## <font color=\"red\">Example</font>\n",
    "\n",
    "We want to write a Python program that receives from command line a config file and print the content of the config file. \n",
    "\n",
    "         python print_config_file.py -c sample_config.cfg"
   ]
  },
  {
   "cell_type": "code",
   "execution_count": null,
   "metadata": {},
   "outputs": [],
   "source": [
    "%%writefile print_config_file.py\n",
    "import click\n",
    "import configparser\n",
    "\n",
    "\n",
    "@click.command()\n",
    "@click.option('--config_file', '-c', default=\"sample_config.cfg\", help=\"config file name.\")\n",
    "def get_config_file(config_file):\n",
    "    click.echo('Obtain the config file: {}'.format(config_file))\n",
    "   \n",
    "    config    = configparser.ConfigParser()\n",
    "    config.read(config_file)\n",
    "\n",
    "    for section_name in config.sections():\n",
    "        print('-' * 80)\n",
    "        print('--->', section_name)\n",
    "        print('-' * 80)\n",
    "        for name, value in config.items(section_name):\n",
    "            print('\\t  {} = {}'.format(name, value))\n",
    "        print()\n",
    "        \n",
    "get_config_file()"
   ]
  },
  {
   "cell_type": "code",
   "execution_count": null,
   "metadata": {},
   "outputs": [],
   "source": [
    "%run print_config_file.py --help"
   ]
  },
  {
   "cell_type": "code",
   "execution_count": null,
   "metadata": {},
   "outputs": [],
   "source": [
    "%run print_config_file.py -c sample_config.cfg"
   ]
  },
  {
   "cell_type": "markdown",
   "metadata": {},
   "source": [
    "## <font color=\"red\"> Breakout</font>\n",
    "\n",
    "Write a script, name compute_sine.py that takes as command line argument a config file.\n",
    "The file should contains as variables:\n",
    "\n",
    "- an output file name\n",
    "- a list of numbers\n",
    "\n",
    "The script writes in the output file the pairs of numbers and their sine values."
   ]
  },
  {
   "cell_type": "code",
   "execution_count": null,
   "metadata": {},
   "outputs": [],
   "source": [
    "%%writefile sine_config.cfg\n",
    "\n",
    "[FILE]\n",
    "out_file: my_file.txt\n",
    "\n",
    "[NUMBERS]\n",
    "numbers: 1.0 -6.4 3.14 0.0 34.7"
   ]
  },
  {
   "cell_type": "code",
   "execution_count": null,
   "metadata": {},
   "outputs": [],
   "source": [
    "%%writefile compute_sine.py"
   ]
  },
  {
   "cell_type": "markdown",
   "metadata": {},
   "source": [
    "----"
   ]
  },
  {
   "cell_type": "code",
   "execution_count": null,
   "metadata": {},
   "outputs": [],
   "source": [
    "%%writefile compute_sine.py\n",
    "import click\n",
    "import configparser\n",
    "import math\n",
    "\n",
    "@click.command()\n",
    "@click.option('--config_file', '-c', default=\"sine_config.cfg\", help=\"config file name.\")\n",
    "def calc_sines(config_file):\n",
    "    click.echo('Obtain the config file: {}'.format(config_file))\n",
    "   \n",
    "    config    = configparser.ConfigParser()\n",
    "    config.read(config_file)\n",
    "\n",
    "    outFile = config.get(\"FILE\", \"out_file\")\n",
    "    numbers = config.get(\"NUMBERS\", \"numbers\")\n",
    "    print(numbers.split())\n",
    "    with open(outFile, 'w') as fid:\n",
    "         list_numbers = numbers.split()\n",
    "         for num_str in  list_numbers:\n",
    "             fid.write(\"{:10} ---> {}\\n\".format(float(num_str), math.sin(float(num_str))))\n",
    "\n",
    "if __name__ == '__main__':\n",
    "   calc_sines()"
   ]
  },
  {
   "cell_type": "markdown",
   "metadata": {},
   "source": [
    "----"
   ]
  },
  {
   "cell_type": "markdown",
   "metadata": {},
   "source": [
    "## <font color=\"red\"> Write Configuration Data File</font>\n",
    "Use the following methods:\n",
    "\n",
    "- `add_section`: to add a section\n",
    "- `set`: to set value of a variable in a given section"
   ]
  },
  {
   "cell_type": "code",
   "execution_count": null,
   "metadata": {},
   "outputs": [],
   "source": [
    "with open('my_config_file.cfg', 'w') as fid:\n",
    "     config = configparser.ConfigParser()\n",
    "\n",
    "     config.add_section(\"USERCONFIG\")\n",
    "     config.set(\"USERCONFIG\", \"message\", \"Virtual Python Courses\")\n",
    "     config.set(\"USERCONFIG\", \"author\", \"ASTG\")\n",
    "     config.set(\"USERCONFIG\", \"organization\", \"Code 606\")\n",
    "     config.set(\"USERCONFIG\", \"url\", \"https://astg606.github.io/py_courses/virtual_courses/\")\n",
    "\n",
    "     config.add_section(\"Course\")\n",
    "     config.set(\"Course\", \"name\", \"Tutorial on ConfigParser\")\n",
    "     config.set(\"Course\", \"location\", \"Microsoft Teams\")\n",
    "\n",
    "     config.add_section(\"Miscellanous\")\n",
    "     config.set(\"Miscellanous\", \"year\", str(2020))\n",
    "     config.set(\"Miscellanous\", \"month\", str(4))\n",
    "     config.set(\"Miscellanous\", \"day\", str(23))\n",
    "     config.set(\"Miscellanous\", \"time\", \"10-11am\")\n",
    "     config.set(\"Miscellanous\", \"open\", \"true\")\n",
    "     config.set(\"Miscellanous\", \"video\", \"no\")\n",
    "     config.set(\"Miscellanous\", \"dummy\", str(10.75))\n",
    "\n",
    "     # write to file\n",
    "     config.write(fid)"
   ]
  },
  {
   "cell_type": "code",
   "execution_count": null,
   "metadata": {},
   "outputs": [],
   "source": [
    "!cat my_config_file.cfg"
   ]
  },
  {
   "cell_type": "markdown",
   "metadata": {},
   "source": [
    "## Configparser Methods\n",
    "\n",
    "| Method | Description |\n",
    "| --- | --- |\n",
    "| sections()\t| Return all the configuration section names. | \n",
    "| has_section()\t| Return whether the given section exists. | \n",
    "| has_option()\t| Return whether the given option exists in the given section. | \n",
    "| options()\t| Return list of configuration options for the named section. | \n",
    "| read()\t| Read and parse the named configuration file. | \n",
    "| read_file()\t| Read and parse one configuration file, given as a file object. | \n",
    "| read_string()\t| Read configuration from a given string. | \n",
    "| read_dict()\t| Read configuration from a dictionary. Keys are section names, values are dictionaries with keys and values that should be present in the section. | \n",
    "| get()\t| Return a string value for the named option. | \n",
    "| getint()\t| Like get(), but convert value to an integer. | \n",
    "| getfloat()\t| Like get(), but convert value to a float. | \n",
    "| getboolean()\t| Like get(), but convert value to a boolean. Returns False or True. | \n",
    "| items()\t| Return a list of tuples with (name, value) for each option in the section. | \n",
    "| remove_section()\t| Remove the given file section and all its options. | \n",
    "| remove_option()\t| Remove the given option from the given section. | \n",
    "| set()\t| Set the given option. | \n",
    "| write()\t| Write the configuration state in .ini format. | "
   ]
  }
 ],
 "metadata": {
  "kernelspec": {
   "display_name": "Python 3",
   "language": "python",
   "name": "python3"
  },
  "language_info": {
   "codemirror_mode": {
    "name": "ipython",
    "version": 3
   },
   "file_extension": ".py",
   "mimetype": "text/x-python",
   "name": "python",
   "nbconvert_exporter": "python",
   "pygments_lexer": "ipython3",
   "version": "3.7.3"
  }
 },
 "nbformat": 4,
 "nbformat_minor": 1
}
